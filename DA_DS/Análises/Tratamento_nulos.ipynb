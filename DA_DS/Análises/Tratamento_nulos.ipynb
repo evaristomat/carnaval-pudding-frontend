{
 "cells": [
  {
   "cell_type": "markdown",
   "id": "73db8313",
   "metadata": {},
   "source": [
    "# Preparando para tratar dados nulos"
   ]
  },
  {
   "cell_type": "code",
   "execution_count": 86,
   "id": "f7bee391",
   "metadata": {},
   "outputs": [],
   "source": [
    "# Importando as bibliotecas necessárias\n",
    "\n",
    "import pandas as pd\n",
    "import seaborn as sns\n",
    "import numpy as np\n",
    "import matplotlib.pyplot as plt\n"
   ]
  },
  {
   "cell_type": "code",
   "execution_count": 87,
   "id": "526070c6",
   "metadata": {},
   "outputs": [],
   "source": [
    "#Paleta de cores do carnaval\n",
    "# Definindo a paleta de cores do carnaval\n",
    "\n",
    "my_palette = sns.color_palette(['#0455BF', '#05C7F2', '#D95204'])"
   ]
  },
  {
   "cell_type": "code",
   "execution_count": 158,
   "id": "082f05c3",
   "metadata": {},
   "outputs": [],
   "source": [
    "# Lendo o arquivo CSV e armazenando-o em um DataFrame\n",
    "\n",
    "df=pd.read_csv('C:/Users/Public/df_new.csv')"
   ]
  },
  {
   "cell_type": "code",
   "execution_count": 89,
   "id": "40f738f5",
   "metadata": {},
   "outputs": [],
   "source": [
    "# Renomeando uma coluna do DataFrame\n",
    "\n",
    "df=df.rename(columns={'t_outromoivo':'t_outro_motivo'})"
   ]
  },
  {
   "cell_type": "code",
   "execution_count": 159,
   "id": "b7575ee8",
   "metadata": {},
   "outputs": [
    {
     "name": "stdout",
     "output_type": "stream",
     "text": [
      "<class 'pandas.core.frame.DataFrame'>\n",
      "RangeIndex: 1581 entries, 0 to 1580\n",
      "Data columns (total 67 columns):\n",
      " #   Column                      Non-Null Count  Dtype  \n",
      "---  ------                      --------------  -----  \n",
      " 0   Unnamed: 0.2                1581 non-null   int64  \n",
      " 1   Unnamed: 0.1                1581 non-null   int64  \n",
      " 2   index                       1581 non-null   int64  \n",
      " 3   Unnamed: 0                  1581 non-null   int64  \n",
      " 4   morador                     1581 non-null   object \n",
      " 5   bloco_classificacao         1581 non-null   object \n",
      " 6   numero_controle             1581 non-null   int64  \n",
      " 7   bloco                       1581 non-null   object \n",
      " 8   dt_visita                   1581 non-null   object \n",
      " 9   dt_termino                  1581 non-null   object \n",
      " 10  tempo_total_entrev          1581 non-null   object \n",
      " 11  idade                       1581 non-null   int64  \n",
      " 12  pais                        1581 non-null   object \n",
      " 13  estado                      1581 non-null   object \n",
      " 14  cidade                      1581 non-null   object \n",
      " 15  bairro_bh                   1363 non-null   object \n",
      " 16  regiao_bh                   1363 non-null   object \n",
      " 17  t_pernoite                  218 non-null    object \n",
      " 18  t_qtpernoite                218 non-null    float64\n",
      " 19  t_hospedagem                218 non-null    object \n",
      " 20  t_transp                    218 non-null    object \n",
      " 21  t_motivo                    218 non-null    object \n",
      " 22  t_outro_motivo              218 non-null    object \n",
      " 23  dias_carnaval               1581 non-null   int64  \n",
      " 24  gasto_total                 1581 non-null   float64\n",
      " 25  t_hospedagem.1              218 non-null    float64\n",
      " 26  alimentacao                 1581 non-null   float64\n",
      " 27  t_atrativos_passeios        218 non-null    float64\n",
      " 28  transporte_interno          1581 non-null   float64\n",
      " 29  compras                     1581 non-null   float64\n",
      " 30  ingressos                   1581 non-null   float64\n",
      " 31  outros                      1581 non-null   float64\n",
      " 32  total                       1581 non-null   float64\n",
      " 33  qtd_pessoas_gasto           1581 non-null   float64\n",
      " 34  fonte_carnaval              1581 non-null   object \n",
      " 35  participou_anos_anteriores  1581 non-null   object \n",
      " 36  evolucao                    1581 non-null   object \n",
      " 37  motivo                      1581 non-null   object \n",
      " 38  expectativas                1581 non-null   object \n",
      " 39  aval_geral                  1581 non-null   float64\n",
      " 40  aval_banheiros              1581 non-null   float64\n",
      " 41  aval_seguranca              1581 non-null   float64\n",
      " 42  aval_precos                 1581 non-null   float64\n",
      " 43  proxima_edicao              1581 non-null   bool   \n",
      " 44  motivo_nao                  1581 non-null   object \n",
      " 45  blocos_de_rua               1581 non-null   bool   \n",
      " 46  escola_samba_caricato       1581 non-null   bool   \n",
      " 47  eventos_privados            1581 non-null   bool   \n",
      " 48  palcos                      1581 non-null   bool   \n",
      " 49  t_visita_amigos             218 non-null    object \n",
      " 50  t_city_tour                 218 non-null    object \n",
      " 51  t_visita_cultural           218 non-null    object \n",
      " 52  t_compras                   218 non-null    object \n",
      " 53  t_gastronomia               218 non-null    object \n",
      " 54  principal_patrocinador      1581 non-null   object \n",
      " 55  outro_patrocinador          1581 non-null   object \n",
      " 56  genero                      1581 non-null   object \n",
      " 57  escolaridade                1581 non-null   object \n",
      " 58  estado_civil                1581 non-null   object \n",
      " 59  faixa_renda                 1581 non-null   object \n",
      " 60  int_renda                   1581 non-null   int64  \n",
      " 61  nivel_gastos                1581 non-null   object \n",
      " 62  categoria_escolaridade      1581 non-null   object \n",
      " 63  categoria_transporte        218 non-null    object \n",
      " 64  categoria_hospedagem        1581 non-null   object \n",
      " 65  categoria_regiao            1581 non-null   object \n",
      " 66  faixa_etaria                1581 non-null   object \n",
      "dtypes: bool(5), float64(15), int64(8), object(39)\n",
      "memory usage: 773.6+ KB\n"
     ]
    }
   ],
   "source": [
    "df.info()"
   ]
  },
  {
   "cell_type": "code",
   "execution_count": 90,
   "id": "98234a80",
   "metadata": {},
   "outputs": [],
   "source": [
    "# Separando os blocos em três classes distintas\n",
    "\n",
    "maiores_blocos = ['Baianas Ozadas', 'MONOBLOCO', 'Entao Brilha', 'Bloco Despedida de Carnaval']\n",
    "tamanho_metade = int(df.shape[0]/2)\n",
    "menores_blocos = list(df['bloco'].sort_values()[:tamanho_metade].index)\n",
    "df['bloco_classificacao'] = df['bloco']\n",
    "df.loc[~df['bloco_classificacao'].isin(maiores_blocos + menores_blocos), 'bloco_classificacao'] = 'Outros'\n"
   ]
  },
  {
   "cell_type": "code",
   "execution_count": 91,
   "id": "a010084f",
   "metadata": {},
   "outputs": [],
   "source": [
    "\n",
    "coluna_a = df.pop('bloco_classificacao') # remove a coluna do DataFrame e a armazena em uma variável separada\n",
    "df.insert(4, 'bloco_classificacao', coluna_a) # insere a coluna na posição 2"
   ]
  },
  {
   "cell_type": "code",
   "execution_count": 92,
   "id": "be38b391",
   "metadata": {},
   "outputs": [
    {
     "data": {
      "text/plain": [
       "array(['Ensino superior completo', 'Pos – Graduaçao – Mestrado',\n",
       "       'Ensino superior incompleto', 'Ensino medio completo',\n",
       "       'Ensino fundamental incompleto', 'Ensino medio incompleto',\n",
       "       'Ensino tecnico', 'Pos – Graduaçao – Especializaçao',\n",
       "       'Pos – Graduaçao – Doutorado', 'Ensino fundamental completo',\n",
       "       'Nao respondeu'], dtype=object)"
      ]
     },
     "execution_count": 92,
     "metadata": {},
     "output_type": "execute_result"
    }
   ],
   "source": [
    "# Verificando os valores únicos de uma coluna\n",
    "\n",
    "df['escolaridade'].unique()"
   ]
  },
  {
   "cell_type": "code",
   "execution_count": 93,
   "id": "2f911a99",
   "metadata": {
    "scrolled": true
   },
   "outputs": [
    {
     "data": {
      "text/html": [
       "<div>\n",
       "<style scoped>\n",
       "    .dataframe tbody tr th:only-of-type {\n",
       "        vertical-align: middle;\n",
       "    }\n",
       "\n",
       "    .dataframe tbody tr th {\n",
       "        vertical-align: top;\n",
       "    }\n",
       "\n",
       "    .dataframe thead th {\n",
       "        text-align: right;\n",
       "    }\n",
       "</style>\n",
       "<table border=\"1\" class=\"dataframe\">\n",
       "  <thead>\n",
       "    <tr style=\"text-align: right;\">\n",
       "      <th></th>\n",
       "      <th>Unnamed: 0.2</th>\n",
       "      <th>level_0</th>\n",
       "      <th>Unnamed: 0.1</th>\n",
       "      <th>index</th>\n",
       "      <th>Unnamed: 0</th>\n",
       "      <th>numero_controle</th>\n",
       "      <th>idade</th>\n",
       "      <th>t_qtpernoite</th>\n",
       "      <th>dias_carnaval</th>\n",
       "      <th>gasto_total</th>\n",
       "      <th>...</th>\n",
       "      <th>ingressos</th>\n",
       "      <th>outros</th>\n",
       "      <th>total</th>\n",
       "      <th>qtd_pessoas_gasto</th>\n",
       "      <th>aval_geral</th>\n",
       "      <th>aval_banheiros</th>\n",
       "      <th>aval_seguranca</th>\n",
       "      <th>aval_precos</th>\n",
       "      <th>faixa_renda</th>\n",
       "      <th>int_renda</th>\n",
       "    </tr>\n",
       "  </thead>\n",
       "  <tbody>\n",
       "    <tr>\n",
       "      <th>count</th>\n",
       "      <td>1581.000000</td>\n",
       "      <td>1581.000000</td>\n",
       "      <td>1581.000000</td>\n",
       "      <td>1581.000000</td>\n",
       "      <td>1581.000000</td>\n",
       "      <td>1581.000000</td>\n",
       "      <td>1581.000000</td>\n",
       "      <td>218.000000</td>\n",
       "      <td>1581.000000</td>\n",
       "      <td>1581.000000</td>\n",
       "      <td>...</td>\n",
       "      <td>1581.000000</td>\n",
       "      <td>1581.000000</td>\n",
       "      <td>1581.000000</td>\n",
       "      <td>1581.000000</td>\n",
       "      <td>1581.000000</td>\n",
       "      <td>1581.000000</td>\n",
       "      <td>1581.000000</td>\n",
       "      <td>1581.000000</td>\n",
       "      <td>0.0</td>\n",
       "      <td>1581.000000</td>\n",
       "    </tr>\n",
       "    <tr>\n",
       "      <th>mean</th>\n",
       "      <td>790.000000</td>\n",
       "      <td>790.000000</td>\n",
       "      <td>790.000000</td>\n",
       "      <td>818.919039</td>\n",
       "      <td>818.919039</td>\n",
       "      <td>819.919039</td>\n",
       "      <td>30.543960</td>\n",
       "      <td>5.665138</td>\n",
       "      <td>3.841240</td>\n",
       "      <td>339.242694</td>\n",
       "      <td>...</td>\n",
       "      <td>8.490829</td>\n",
       "      <td>19.371284</td>\n",
       "      <td>335.261037</td>\n",
       "      <td>1.522454</td>\n",
       "      <td>5.194813</td>\n",
       "      <td>7.170778</td>\n",
       "      <td>6.663504</td>\n",
       "      <td>8.338393</td>\n",
       "      <td>NaN</td>\n",
       "      <td>4.951929</td>\n",
       "    </tr>\n",
       "    <tr>\n",
       "      <th>std</th>\n",
       "      <td>456.539703</td>\n",
       "      <td>456.539703</td>\n",
       "      <td>456.539703</td>\n",
       "      <td>475.287850</td>\n",
       "      <td>475.287850</td>\n",
       "      <td>475.287850</td>\n",
       "      <td>11.656046</td>\n",
       "      <td>12.611631</td>\n",
       "      <td>1.664817</td>\n",
       "      <td>458.704204</td>\n",
       "      <td>...</td>\n",
       "      <td>51.781559</td>\n",
       "      <td>113.676576</td>\n",
       "      <td>465.820195</td>\n",
       "      <td>1.043501</td>\n",
       "      <td>2.576181</td>\n",
       "      <td>2.217293</td>\n",
       "      <td>2.216021</td>\n",
       "      <td>1.383437</td>\n",
       "      <td>NaN</td>\n",
       "      <td>2.843196</td>\n",
       "    </tr>\n",
       "    <tr>\n",
       "      <th>min</th>\n",
       "      <td>0.000000</td>\n",
       "      <td>0.000000</td>\n",
       "      <td>0.000000</td>\n",
       "      <td>0.000000</td>\n",
       "      <td>0.000000</td>\n",
       "      <td>1.000000</td>\n",
       "      <td>16.000000</td>\n",
       "      <td>0.000000</td>\n",
       "      <td>1.000000</td>\n",
       "      <td>3.000000</td>\n",
       "      <td>...</td>\n",
       "      <td>0.000000</td>\n",
       "      <td>0.000000</td>\n",
       "      <td>0.000000</td>\n",
       "      <td>1.000000</td>\n",
       "      <td>1.000000</td>\n",
       "      <td>1.000000</td>\n",
       "      <td>1.000000</td>\n",
       "      <td>1.000000</td>\n",
       "      <td>NaN</td>\n",
       "      <td>1.000000</td>\n",
       "    </tr>\n",
       "    <tr>\n",
       "      <th>25%</th>\n",
       "      <td>395.000000</td>\n",
       "      <td>395.000000</td>\n",
       "      <td>395.000000</td>\n",
       "      <td>407.000000</td>\n",
       "      <td>407.000000</td>\n",
       "      <td>408.000000</td>\n",
       "      <td>22.000000</td>\n",
       "      <td>3.000000</td>\n",
       "      <td>2.000000</td>\n",
       "      <td>112.000000</td>\n",
       "      <td>...</td>\n",
       "      <td>0.000000</td>\n",
       "      <td>0.000000</td>\n",
       "      <td>100.000000</td>\n",
       "      <td>1.000000</td>\n",
       "      <td>3.000000</td>\n",
       "      <td>6.000000</td>\n",
       "      <td>5.000000</td>\n",
       "      <td>8.000000</td>\n",
       "      <td>NaN</td>\n",
       "      <td>3.000000</td>\n",
       "    </tr>\n",
       "    <tr>\n",
       "      <th>50%</th>\n",
       "      <td>790.000000</td>\n",
       "      <td>790.000000</td>\n",
       "      <td>790.000000</td>\n",
       "      <td>820.000000</td>\n",
       "      <td>820.000000</td>\n",
       "      <td>821.000000</td>\n",
       "      <td>28.000000</td>\n",
       "      <td>4.000000</td>\n",
       "      <td>4.000000</td>\n",
       "      <td>230.000000</td>\n",
       "      <td>...</td>\n",
       "      <td>0.000000</td>\n",
       "      <td>0.000000</td>\n",
       "      <td>210.000000</td>\n",
       "      <td>1.000000</td>\n",
       "      <td>5.000000</td>\n",
       "      <td>8.000000</td>\n",
       "      <td>7.000000</td>\n",
       "      <td>8.000000</td>\n",
       "      <td>NaN</td>\n",
       "      <td>4.000000</td>\n",
       "    </tr>\n",
       "    <tr>\n",
       "      <th>75%</th>\n",
       "      <td>1185.000000</td>\n",
       "      <td>1185.000000</td>\n",
       "      <td>1185.000000</td>\n",
       "      <td>1228.000000</td>\n",
       "      <td>1228.000000</td>\n",
       "      <td>1229.000000</td>\n",
       "      <td>37.000000</td>\n",
       "      <td>5.000000</td>\n",
       "      <td>5.000000</td>\n",
       "      <td>400.000000</td>\n",
       "      <td>...</td>\n",
       "      <td>0.000000</td>\n",
       "      <td>0.000000</td>\n",
       "      <td>400.000000</td>\n",
       "      <td>2.000000</td>\n",
       "      <td>7.000000</td>\n",
       "      <td>9.000000</td>\n",
       "      <td>8.000000</td>\n",
       "      <td>9.000000</td>\n",
       "      <td>NaN</td>\n",
       "      <td>6.000000</td>\n",
       "    </tr>\n",
       "    <tr>\n",
       "      <th>max</th>\n",
       "      <td>1580.000000</td>\n",
       "      <td>1580.000000</td>\n",
       "      <td>1580.000000</td>\n",
       "      <td>1644.000000</td>\n",
       "      <td>1644.000000</td>\n",
       "      <td>1645.000000</td>\n",
       "      <td>74.000000</td>\n",
       "      <td>180.000000</td>\n",
       "      <td>6.000000</td>\n",
       "      <td>10000.000000</td>\n",
       "      <td>...</td>\n",
       "      <td>1000.000000</td>\n",
       "      <td>2500.000000</td>\n",
       "      <td>10000.000000</td>\n",
       "      <td>10.000000</td>\n",
       "      <td>10.000000</td>\n",
       "      <td>10.000000</td>\n",
       "      <td>10.000000</td>\n",
       "      <td>10.000000</td>\n",
       "      <td>NaN</td>\n",
       "      <td>11.000000</td>\n",
       "    </tr>\n",
       "  </tbody>\n",
       "</table>\n",
       "<p>8 rows × 25 columns</p>\n",
       "</div>"
      ],
      "text/plain": [
       "       Unnamed: 0.2      level_0  Unnamed: 0.1        index   Unnamed: 0  \\\n",
       "count   1581.000000  1581.000000   1581.000000  1581.000000  1581.000000   \n",
       "mean     790.000000   790.000000    790.000000   818.919039   818.919039   \n",
       "std      456.539703   456.539703    456.539703   475.287850   475.287850   \n",
       "min        0.000000     0.000000      0.000000     0.000000     0.000000   \n",
       "25%      395.000000   395.000000    395.000000   407.000000   407.000000   \n",
       "50%      790.000000   790.000000    790.000000   820.000000   820.000000   \n",
       "75%     1185.000000  1185.000000   1185.000000  1228.000000  1228.000000   \n",
       "max     1580.000000  1580.000000   1580.000000  1644.000000  1644.000000   \n",
       "\n",
       "       numero_controle        idade  t_qtpernoite  dias_carnaval  \\\n",
       "count      1581.000000  1581.000000    218.000000    1581.000000   \n",
       "mean        819.919039    30.543960      5.665138       3.841240   \n",
       "std         475.287850    11.656046     12.611631       1.664817   \n",
       "min           1.000000    16.000000      0.000000       1.000000   \n",
       "25%         408.000000    22.000000      3.000000       2.000000   \n",
       "50%         821.000000    28.000000      4.000000       4.000000   \n",
       "75%        1229.000000    37.000000      5.000000       5.000000   \n",
       "max        1645.000000    74.000000    180.000000       6.000000   \n",
       "\n",
       "        gasto_total  ...    ingressos       outros         total  \\\n",
       "count   1581.000000  ...  1581.000000  1581.000000   1581.000000   \n",
       "mean     339.242694  ...     8.490829    19.371284    335.261037   \n",
       "std      458.704204  ...    51.781559   113.676576    465.820195   \n",
       "min        3.000000  ...     0.000000     0.000000      0.000000   \n",
       "25%      112.000000  ...     0.000000     0.000000    100.000000   \n",
       "50%      230.000000  ...     0.000000     0.000000    210.000000   \n",
       "75%      400.000000  ...     0.000000     0.000000    400.000000   \n",
       "max    10000.000000  ...  1000.000000  2500.000000  10000.000000   \n",
       "\n",
       "       qtd_pessoas_gasto   aval_geral  aval_banheiros  aval_seguranca  \\\n",
       "count        1581.000000  1581.000000     1581.000000     1581.000000   \n",
       "mean            1.522454     5.194813        7.170778        6.663504   \n",
       "std             1.043501     2.576181        2.217293        2.216021   \n",
       "min             1.000000     1.000000        1.000000        1.000000   \n",
       "25%             1.000000     3.000000        6.000000        5.000000   \n",
       "50%             1.000000     5.000000        8.000000        7.000000   \n",
       "75%             2.000000     7.000000        9.000000        8.000000   \n",
       "max            10.000000    10.000000       10.000000       10.000000   \n",
       "\n",
       "       aval_precos  faixa_renda    int_renda  \n",
       "count  1581.000000          0.0  1581.000000  \n",
       "mean      8.338393          NaN     4.951929  \n",
       "std       1.383437          NaN     2.843196  \n",
       "min       1.000000          NaN     1.000000  \n",
       "25%       8.000000          NaN     3.000000  \n",
       "50%       8.000000          NaN     4.000000  \n",
       "75%       9.000000          NaN     6.000000  \n",
       "max      10.000000          NaN    11.000000  \n",
       "\n",
       "[8 rows x 25 columns]"
      ]
     },
     "execution_count": 93,
     "metadata": {},
     "output_type": "execute_result"
    }
   ],
   "source": [
    "# Verificando a descrição do DataFrame\n",
    "\n",
    "df.describe()"
   ]
  },
  {
   "cell_type": "code",
   "execution_count": 162,
   "id": "3752c63c",
   "metadata": {},
   "outputs": [
    {
     "data": {
      "text/plain": [
       "De 2 a 4 salários (R$ 1.875,00 - R$ 3.816,00)    533\n",
       "De 4 a 8 salários (R$ 3.749,00 - R$ 7.632,00)    430\n",
       "Acima de 8 salários (acima de R$ 7.632,00)       295\n",
       "De 1 a 2 salários (R$ 954,00 - R$ 1.908,00)      257\n",
       "Até um salário mínimo (R$ 954,00)                 66\n",
       "Name: faixa_renda, dtype: int64"
      ]
     },
     "execution_count": 162,
     "metadata": {},
     "output_type": "execute_result"
    }
   ],
   "source": [
    "# Criando outra coluna para classificar a renda:\n",
    "df['faixa_renda'].value_counts()"
   ]
  },
  {
   "cell_type": "code",
   "execution_count": 7,
   "id": "cb135f1c",
   "metadata": {
    "scrolled": true
   },
   "outputs": [
    {
     "name": "stdout",
     "output_type": "stream",
     "text": [
      "<class 'pandas.core.frame.DataFrame'>\n",
      "RangeIndex: 1581 entries, 0 to 1580\n",
      "Data columns (total 66 columns):\n",
      " #   Column                      Non-Null Count  Dtype  \n",
      "---  ------                      --------------  -----  \n",
      " 0   Unnamed: 0.1                1581 non-null   int64  \n",
      " 1   index                       1581 non-null   int64  \n",
      " 2   Unnamed: 0                  1581 non-null   int64  \n",
      " 3   morador                     1581 non-null   object \n",
      " 4   bloco_classificacao         1581 non-null   object \n",
      " 5   numero_controle             1581 non-null   int64  \n",
      " 6   bloco                       1581 non-null   object \n",
      " 7   dt_visita                   1581 non-null   object \n",
      " 8   dt_termino                  1581 non-null   object \n",
      " 9   tempo_total_entrev          1581 non-null   object \n",
      " 10  idade                       1581 non-null   int64  \n",
      " 11  pais                        1581 non-null   object \n",
      " 12  estado                      1581 non-null   object \n",
      " 13  cidade                      1581 non-null   object \n",
      " 14  bairro_bh                   1363 non-null   object \n",
      " 15  regiao_bh                   1363 non-null   object \n",
      " 16  t_pernoite                  218 non-null    object \n",
      " 17  t_qtpernoite                218 non-null    float64\n",
      " 18  t_hospedagem                218 non-null    object \n",
      " 19  t_transp                    218 non-null    object \n",
      " 20  t_motivo                    218 non-null    object \n",
      " 21  t_outro_motivo              218 non-null    object \n",
      " 22  dias_carnaval               1581 non-null   int64  \n",
      " 23  gasto_total                 1581 non-null   float64\n",
      " 24  t_hospedagem.1              218 non-null    float64\n",
      " 25  alimentacao                 1581 non-null   float64\n",
      " 26  t_atrativos_passeios        218 non-null    float64\n",
      " 27  transporte_interno          1581 non-null   float64\n",
      " 28  compras                     1581 non-null   float64\n",
      " 29  ingressos                   1581 non-null   float64\n",
      " 30  outros                      1581 non-null   float64\n",
      " 31  total                       1581 non-null   float64\n",
      " 32  qtd_pessoas_gasto           1581 non-null   float64\n",
      " 33  fonte_carnaval              1581 non-null   object \n",
      " 34  participou_anos_anteriores  1581 non-null   object \n",
      " 35  evolucao                    1581 non-null   object \n",
      " 36  motivo                      1581 non-null   object \n",
      " 37  expectativas                1581 non-null   object \n",
      " 38  aval_geral                  1581 non-null   float64\n",
      " 39  aval_banheiros              1581 non-null   float64\n",
      " 40  aval_seguranca              1581 non-null   float64\n",
      " 41  aval_precos                 1581 non-null   float64\n",
      " 42  proxima_edicao              1581 non-null   bool   \n",
      " 43  motivo_nao                  1581 non-null   object \n",
      " 44  blocos_de_rua               1581 non-null   bool   \n",
      " 45  escola_samba_caricato       1581 non-null   bool   \n",
      " 46  eventos_privados            1581 non-null   bool   \n",
      " 47  palcos                      1581 non-null   bool   \n",
      " 48  t_visita_amigos             218 non-null    object \n",
      " 49  t_city_tour                 218 non-null    object \n",
      " 50  t_visita_cultural           218 non-null    object \n",
      " 51  t_compras                   218 non-null    object \n",
      " 52  t_gastronomia               218 non-null    object \n",
      " 53  principal_patrocinador      1581 non-null   object \n",
      " 54  outro_patrocinador          1581 non-null   object \n",
      " 55  genero                      1581 non-null   object \n",
      " 56  escolaridade                1581 non-null   object \n",
      " 57  estado_civil                1581 non-null   object \n",
      " 58  faixa_renda                 1581 non-null   object \n",
      " 59  int_renda                   1581 non-null   int64  \n",
      " 60  nivel_gastos                1581 non-null   object \n",
      " 61  categoria_escolaridade      1581 non-null   object \n",
      " 62  categoria_transporte        218 non-null    object \n",
      " 63  categoria_hospedagem        1581 non-null   object \n",
      " 64  categoria_regiao            1581 non-null   object \n",
      " 65  faixa_etaria                1581 non-null   object \n",
      "dtypes: bool(5), float64(15), int64(7), object(39)\n",
      "memory usage: 761.3+ KB\n"
     ]
    }
   ],
   "source": [
    "df.info()"
   ]
  },
  {
   "cell_type": "markdown",
   "id": "5d04339a",
   "metadata": {},
   "source": [
    "# Tratando dados nulos"
   ]
  },
  {
   "cell_type": "code",
   "execution_count": 95,
   "id": "84589365",
   "metadata": {},
   "outputs": [],
   "source": [
    "# Removendo linhas que contenham valores específicos e redefinindo o índice do DataFrame\n",
    "\n",
    "df=df.drop(df[df['faixa_renda']=='Nao respondeu'].index)\n",
    "df=df.drop(df[df['faixa_renda']=='Nao sabe'].index)\n"
   ]
  },
  {
   "cell_type": "code",
   "execution_count": 96,
   "id": "5b6d2788",
   "metadata": {
    "scrolled": true
   },
   "outputs": [],
   "source": [
    "df.loc[df['morador'] == 'Visitantes', 't_qtpernoite'] = df.loc[df['morador'] == 'Visitantes', 't_qtpernoite'].fillna(0)\n",
    "#Preenchendo valores pagos de estadia por visitantes que não pernoitaram com 0, pois não pagaram nada de hospedagem."
   ]
  },
  {
   "cell_type": "code",
   "execution_count": 97,
   "id": "9f452125",
   "metadata": {},
   "outputs": [
    {
     "data": {
      "text/plain": [
       "array([nan, 'Casa de Amigos/Parentes', 'Outros', 'Casa propria/alugada',\n",
       "       'Hoteis/Pousadas', 'Outro   airbnb', 'Outro   carro',\n",
       "       'Outro   aluguel de quarto', 'Albergue', 'Outro   flat'],\n",
       "      dtype=object)"
      ]
     },
     "execution_count": 97,
     "metadata": {},
     "output_type": "execute_result"
    }
   ],
   "source": [
    "df['t_hospedagem'].unique()"
   ]
  },
  {
   "cell_type": "code",
   "execution_count": 98,
   "id": "f5bfb0e2",
   "metadata": {},
   "outputs": [],
   "source": [
    "df.loc[df['morador'] == 'Visitantes', 't_pernoite'] = df.loc[df['morador'] == 'Visitantes', 't_pernoite'].fillna(0)\n",
    "#Preenchendo valores pagos de estadia por visitantes que não pernoitaram com 0, pois não se hospedaram."
   ]
  },
  {
   "cell_type": "code",
   "execution_count": 99,
   "id": "a0ccdd7c",
   "metadata": {},
   "outputs": [],
   "source": [
    "df.loc[df['morador'] == 'Visitantes', 't_hospedagem'] = df.loc[df['morador'] == 'Visitantes', 't_hospedagem'].fillna('Outros')\n",
    "# Preenchendo hospedagens ausentes de visitantes com outros."
   ]
  },
  {
   "cell_type": "code",
   "execution_count": 12,
   "id": "258479b6",
   "metadata": {},
   "outputs": [
    {
     "name": "stdout",
     "output_type": "stream",
     "text": [
      "<class 'pandas.core.frame.DataFrame'>\n",
      "RangeIndex: 1581 entries, 0 to 1580\n",
      "Data columns (total 67 columns):\n",
      " #   Column                      Non-Null Count  Dtype  \n",
      "---  ------                      --------------  -----  \n",
      " 0   level_0                     1581 non-null   int64  \n",
      " 1   Unnamed: 0.1                1581 non-null   int64  \n",
      " 2   index                       1581 non-null   int64  \n",
      " 3   Unnamed: 0                  1581 non-null   int64  \n",
      " 4   morador                     1581 non-null   object \n",
      " 5   bloco_classificacao         1581 non-null   object \n",
      " 6   numero_controle             1581 non-null   int64  \n",
      " 7   bloco                       1581 non-null   object \n",
      " 8   dt_visita                   1581 non-null   object \n",
      " 9   dt_termino                  1581 non-null   object \n",
      " 10  tempo_total_entrev          1581 non-null   object \n",
      " 11  idade                       1581 non-null   int64  \n",
      " 12  pais                        1581 non-null   object \n",
      " 13  estado                      1581 non-null   object \n",
      " 14  cidade                      1581 non-null   object \n",
      " 15  bairro_bh                   1363 non-null   object \n",
      " 16  regiao_bh                   1363 non-null   object \n",
      " 17  t_pernoite                  218 non-null    object \n",
      " 18  t_qtpernoite                218 non-null    float64\n",
      " 19  t_hospedagem                218 non-null    object \n",
      " 20  t_transp                    218 non-null    object \n",
      " 21  t_motivo                    218 non-null    object \n",
      " 22  t_outro_motivo              218 non-null    object \n",
      " 23  dias_carnaval               1581 non-null   int64  \n",
      " 24  gasto_total                 1581 non-null   float64\n",
      " 25  t_hospedagem.1              218 non-null    float64\n",
      " 26  alimentacao                 1581 non-null   float64\n",
      " 27  t_atrativos_passeios        218 non-null    float64\n",
      " 28  transporte_interno          1581 non-null   float64\n",
      " 29  compras                     1581 non-null   float64\n",
      " 30  ingressos                   1581 non-null   float64\n",
      " 31  outros                      1581 non-null   float64\n",
      " 32  total                       1581 non-null   float64\n",
      " 33  qtd_pessoas_gasto           1581 non-null   float64\n",
      " 34  fonte_carnaval              1581 non-null   object \n",
      " 35  participou_anos_anteriores  1581 non-null   object \n",
      " 36  evolucao                    1581 non-null   object \n",
      " 37  motivo                      1581 non-null   object \n",
      " 38  expectativas                1581 non-null   object \n",
      " 39  aval_geral                  1581 non-null   float64\n",
      " 40  aval_banheiros              1581 non-null   float64\n",
      " 41  aval_seguranca              1581 non-null   float64\n",
      " 42  aval_precos                 1581 non-null   float64\n",
      " 43  proxima_edicao              1581 non-null   bool   \n",
      " 44  motivo_nao                  1581 non-null   object \n",
      " 45  blocos_de_rua               1581 non-null   bool   \n",
      " 46  escola_samba_caricato       1581 non-null   bool   \n",
      " 47  eventos_privados            1581 non-null   bool   \n",
      " 48  palcos                      1581 non-null   bool   \n",
      " 49  t_visita_amigos             218 non-null    object \n",
      " 50  t_city_tour                 218 non-null    object \n",
      " 51  t_visita_cultural           218 non-null    object \n",
      " 52  t_compras                   218 non-null    object \n",
      " 53  t_gastronomia               218 non-null    object \n",
      " 54  principal_patrocinador      1581 non-null   object \n",
      " 55  outro_patrocinador          1581 non-null   object \n",
      " 56  genero                      1581 non-null   object \n",
      " 57  escolaridade                1581 non-null   object \n",
      " 58  estado_civil                1581 non-null   object \n",
      " 59  faixa_renda                 1581 non-null   object \n",
      " 60  int_renda                   1581 non-null   int64  \n",
      " 61  nivel_gastos                1581 non-null   object \n",
      " 62  categoria_escolaridade      1581 non-null   object \n",
      " 63  categoria_transporte        218 non-null    object \n",
      " 64  categoria_hospedagem        1581 non-null   object \n",
      " 65  categoria_regiao            1581 non-null   object \n",
      " 66  faixa_etaria                1581 non-null   object \n",
      "dtypes: bool(5), float64(15), int64(8), object(39)\n",
      "memory usage: 773.6+ KB\n"
     ]
    }
   ],
   "source": [
    "df.info()"
   ]
  },
  {
   "cell_type": "code",
   "execution_count": 11,
   "id": "5f368cd2",
   "metadata": {},
   "outputs": [],
   "source": [
    "# CHECANDO OS NULOS"
   ]
  },
  {
   "cell_type": "code",
   "execution_count": 12,
   "id": "f6c41175",
   "metadata": {
    "scrolled": true
   },
   "outputs": [
    {
     "name": "stdout",
     "output_type": "stream",
     "text": [
      "<class 'pandas.core.frame.DataFrame'>\n",
      "RangeIndex: 1581 entries, 0 to 1580\n",
      "Data columns (total 67 columns):\n",
      " #   Column                      Non-Null Count  Dtype  \n",
      "---  ------                      --------------  -----  \n",
      " 0   level_0                     1581 non-null   int64  \n",
      " 1   Unnamed: 0.1                1581 non-null   int64  \n",
      " 2   index                       1581 non-null   int64  \n",
      " 3   Unnamed: 0                  1581 non-null   int64  \n",
      " 4   morador                     1581 non-null   object \n",
      " 5   bloco_classificacao         1581 non-null   object \n",
      " 6   numero_controle             1581 non-null   int64  \n",
      " 7   bloco                       1581 non-null   object \n",
      " 8   dt_visita                   1581 non-null   object \n",
      " 9   dt_termino                  1581 non-null   object \n",
      " 10  tempo_total_entrev          1581 non-null   object \n",
      " 11  idade                       1581 non-null   int64  \n",
      " 12  pais                        1581 non-null   object \n",
      " 13  estado                      1581 non-null   object \n",
      " 14  cidade                      1581 non-null   object \n",
      " 15  bairro_bh                   1363 non-null   object \n",
      " 16  regiao_bh                   1363 non-null   object \n",
      " 17  t_pernoite                  218 non-null    object \n",
      " 18  t_qtpernoite                218 non-null    float64\n",
      " 19  t_hospedagem                218 non-null    object \n",
      " 20  t_transp                    218 non-null    object \n",
      " 21  t_motivo                    218 non-null    object \n",
      " 22  t_outro_motivo              218 non-null    object \n",
      " 23  dias_carnaval               1581 non-null   int64  \n",
      " 24  gasto_total                 1581 non-null   float64\n",
      " 25  t_hospedagem.1              218 non-null    float64\n",
      " 26  alimentacao                 1581 non-null   float64\n",
      " 27  t_atrativos_passeios        218 non-null    float64\n",
      " 28  transporte_interno          1581 non-null   float64\n",
      " 29  compras                     1581 non-null   float64\n",
      " 30  ingressos                   1581 non-null   float64\n",
      " 31  outros                      1581 non-null   float64\n",
      " 32  total                       1581 non-null   float64\n",
      " 33  qtd_pessoas_gasto           1581 non-null   float64\n",
      " 34  fonte_carnaval              1581 non-null   object \n",
      " 35  participou_anos_anteriores  1581 non-null   object \n",
      " 36  evolucao                    1581 non-null   object \n",
      " 37  motivo                      1581 non-null   object \n",
      " 38  expectativas                1581 non-null   object \n",
      " 39  aval_geral                  1581 non-null   float64\n",
      " 40  aval_banheiros              1581 non-null   float64\n",
      " 41  aval_seguranca              1581 non-null   float64\n",
      " 42  aval_precos                 1581 non-null   float64\n",
      " 43  proxima_edicao              1581 non-null   bool   \n",
      " 44  motivo_nao                  1581 non-null   object \n",
      " 45  blocos_de_rua               1581 non-null   bool   \n",
      " 46  escola_samba_caricato       1581 non-null   bool   \n",
      " 47  eventos_privados            1581 non-null   bool   \n",
      " 48  palcos                      1581 non-null   bool   \n",
      " 49  t_visita_amigos             218 non-null    object \n",
      " 50  t_city_tour                 218 non-null    object \n",
      " 51  t_visita_cultural           218 non-null    object \n",
      " 52  t_compras                   218 non-null    object \n",
      " 53  t_gastronomia               218 non-null    object \n",
      " 54  principal_patrocinador      1581 non-null   object \n",
      " 55  outro_patrocinador          1581 non-null   object \n",
      " 56  genero                      1581 non-null   object \n",
      " 57  escolaridade                1581 non-null   object \n",
      " 58  estado_civil                1581 non-null   object \n",
      " 59  faixa_renda                 1581 non-null   object \n",
      " 60  int_renda                   1581 non-null   int64  \n",
      " 61  nivel_gastos                1581 non-null   object \n",
      " 62  categoria_escolaridade      1581 non-null   object \n",
      " 63  categoria_transporte        218 non-null    object \n",
      " 64  categoria_hospedagem        1581 non-null   object \n",
      " 65  categoria_regiao            1581 non-null   object \n",
      " 66  faixa_etaria                1581 non-null   object \n",
      "dtypes: bool(5), float64(15), int64(8), object(39)\n",
      "memory usage: 773.6+ KB\n"
     ]
    }
   ],
   "source": [
    "df.info()"
   ]
  },
  {
   "cell_type": "code",
   "execution_count": 13,
   "id": "61b5ccd1",
   "metadata": {
    "scrolled": true
   },
   "outputs": [
    {
     "name": "stderr",
     "output_type": "stream",
     "text": [
      "C:\\Users\\gabri\\AppData\\Local\\Temp\\ipykernel_23112\\1416726384.py:1: UserWarning: Boolean Series key will be reindexed to match DataFrame index.\n",
      "  df[df['t_hospedagem'].isnull()][df['morador']=='Visitantes']\n"
     ]
    },
    {
     "data": {
      "text/html": [
       "<div>\n",
       "<style scoped>\n",
       "    .dataframe tbody tr th:only-of-type {\n",
       "        vertical-align: middle;\n",
       "    }\n",
       "\n",
       "    .dataframe tbody tr th {\n",
       "        vertical-align: top;\n",
       "    }\n",
       "\n",
       "    .dataframe thead th {\n",
       "        text-align: right;\n",
       "    }\n",
       "</style>\n",
       "<table border=\"1\" class=\"dataframe\">\n",
       "  <thead>\n",
       "    <tr style=\"text-align: right;\">\n",
       "      <th></th>\n",
       "      <th>level_0</th>\n",
       "      <th>Unnamed: 0.1</th>\n",
       "      <th>index</th>\n",
       "      <th>Unnamed: 0</th>\n",
       "      <th>morador</th>\n",
       "      <th>bloco_classificacao</th>\n",
       "      <th>numero_controle</th>\n",
       "      <th>bloco</th>\n",
       "      <th>dt_visita</th>\n",
       "      <th>dt_termino</th>\n",
       "      <th>...</th>\n",
       "      <th>escolaridade</th>\n",
       "      <th>estado_civil</th>\n",
       "      <th>faixa_renda</th>\n",
       "      <th>int_renda</th>\n",
       "      <th>nivel_gastos</th>\n",
       "      <th>categoria_escolaridade</th>\n",
       "      <th>categoria_transporte</th>\n",
       "      <th>categoria_hospedagem</th>\n",
       "      <th>categoria_regiao</th>\n",
       "      <th>faixa_etaria</th>\n",
       "    </tr>\n",
       "  </thead>\n",
       "  <tbody>\n",
       "  </tbody>\n",
       "</table>\n",
       "<p>0 rows × 67 columns</p>\n",
       "</div>"
      ],
      "text/plain": [
       "Empty DataFrame\n",
       "Columns: [level_0, Unnamed: 0.1, index, Unnamed: 0, morador, bloco_classificacao, numero_controle, bloco, dt_visita, dt_termino, tempo_total_entrev, idade, pais, estado, cidade, bairro_bh, regiao_bh, t_pernoite, t_qtpernoite, t_hospedagem, t_transp, t_motivo, t_outro_motivo, dias_carnaval, gasto_total, t_hospedagem.1, alimentacao, t_atrativos_passeios, transporte_interno, compras, ingressos, outros, total, qtd_pessoas_gasto, fonte_carnaval, participou_anos_anteriores, evolucao, motivo, expectativas, aval_geral, aval_banheiros, aval_seguranca, aval_precos, proxima_edicao, motivo_nao, blocos_de_rua, escola_samba_caricato, eventos_privados, palcos, t_visita_amigos, t_city_tour, t_visita_cultural, t_compras, t_gastronomia, principal_patrocinador, outro_patrocinador, genero, escolaridade, estado_civil, faixa_renda, int_renda, nivel_gastos, categoria_escolaridade, categoria_transporte, categoria_hospedagem, categoria_regiao, faixa_etaria]\n",
       "Index: []\n",
       "\n",
       "[0 rows x 67 columns]"
      ]
     },
     "execution_count": 13,
     "metadata": {},
     "output_type": "execute_result"
    }
   ],
   "source": [
    "df[df['t_hospedagem'].isnull()][df['morador']=='Visitantes']"
   ]
  },
  {
   "cell_type": "code",
   "execution_count": 100,
   "id": "927b4ab1",
   "metadata": {},
   "outputs": [],
   "source": [
    "df['t_transp'][df['morador']=='Visitantes'].unique()\n",
    "df.loc[df['morador'] == 'Visitantes', 't_transp'] = df.loc[df['morador'] == 'Visitantes', 't_transp'].fillna('Outros')\n",
    "# Preenchendo veículo de transporte de pessoas visitantes com outros."
   ]
  },
  {
   "cell_type": "code",
   "execution_count": 101,
   "id": "d48769fe",
   "metadata": {},
   "outputs": [],
   "source": [
    "df.loc[df['morador'] == 'Visitantes', 't_motivo'] = df.loc[df['morador'] == 'Visitantes', 't_motivo'].fillna('Nao respondeu')\n",
    "# Colocando não respondeu, para quem não respondeu o motivo da visita na pesquisa."
   ]
  },
  {
   "cell_type": "code",
   "execution_count": null,
   "id": "1e05c5cb",
   "metadata": {},
   "outputs": [],
   "source": []
  },
  {
   "cell_type": "code",
   "execution_count": 102,
   "id": "fd68bb6b",
   "metadata": {},
   "outputs": [],
   "source": [
    "df.loc[df['morador'] == 'Visitantes', 't_outro_motivo'] = df.loc[df['morador'] == 'Visitantes', 't_outro_motivo'].fillna('Nao respondeu')\n",
    "# Colocando não respondeu, para quem não respondeu o motivo da visita na pesquisa."
   ]
  },
  {
   "cell_type": "code",
   "execution_count": 103,
   "id": "cf9cd761",
   "metadata": {},
   "outputs": [],
   "source": [
    "def fill_gasto_total(row):\n",
    "    if pd.isna(row['gasto_total']):\n",
    "        return df['gasto_total'][row['dias_carnaval']]\n",
    "    return row['gasto_total']        \n",
    "df['gasto_total'] = df.apply(fill_gasto_total, axis=1)\n",
    "# Preenchendo dados vazios de gasto total de acordo com tempo que permaneceu no carnaval."
   ]
  },
  {
   "cell_type": "code",
   "execution_count": 104,
   "id": "7c1a2e61",
   "metadata": {},
   "outputs": [
    {
     "name": "stdout",
     "output_type": "stream",
     "text": [
      "<class 'pandas.core.frame.DataFrame'>\n",
      "RangeIndex: 1581 entries, 0 to 1580\n",
      "Data columns (total 68 columns):\n",
      " #   Column                      Non-Null Count  Dtype  \n",
      "---  ------                      --------------  -----  \n",
      " 0   Unnamed: 0.2                1581 non-null   int64  \n",
      " 1   level_0                     1581 non-null   int64  \n",
      " 2   Unnamed: 0.1                1581 non-null   int64  \n",
      " 3   index                       1581 non-null   int64  \n",
      " 4   bloco_classificacao         1581 non-null   object \n",
      " 5   Unnamed: 0                  1581 non-null   int64  \n",
      " 6   morador                     1581 non-null   object \n",
      " 7   numero_controle             1581 non-null   int64  \n",
      " 8   bloco                       1581 non-null   object \n",
      " 9   dt_visita                   1581 non-null   object \n",
      " 10  dt_termino                  1581 non-null   object \n",
      " 11  tempo_total_entrev          1581 non-null   object \n",
      " 12  idade                       1581 non-null   int64  \n",
      " 13  pais                        1581 non-null   object \n",
      " 14  estado                      1581 non-null   object \n",
      " 15  cidade                      1581 non-null   object \n",
      " 16  bairro_bh                   1363 non-null   object \n",
      " 17  regiao_bh                   1363 non-null   object \n",
      " 18  t_pernoite                  218 non-null    object \n",
      " 19  t_qtpernoite                218 non-null    float64\n",
      " 20  t_hospedagem                218 non-null    object \n",
      " 21  t_transp                    218 non-null    object \n",
      " 22  t_motivo                    218 non-null    object \n",
      " 23  t_outro_motivo              218 non-null    object \n",
      " 24  dias_carnaval               1581 non-null   int64  \n",
      " 25  gasto_total                 1581 non-null   float64\n",
      " 26  t_hospedagem.1              218 non-null    float64\n",
      " 27  alimentacao                 1581 non-null   float64\n",
      " 28  t_atrativos_passeios        218 non-null    float64\n",
      " 29  transporte_interno          1581 non-null   float64\n",
      " 30  compras                     1581 non-null   float64\n",
      " 31  ingressos                   1581 non-null   float64\n",
      " 32  outros                      1581 non-null   float64\n",
      " 33  total                       1581 non-null   float64\n",
      " 34  qtd_pessoas_gasto           1581 non-null   float64\n",
      " 35  fonte_carnaval              1581 non-null   object \n",
      " 36  participou_anos_anteriores  1581 non-null   object \n",
      " 37  evolucao                    1581 non-null   object \n",
      " 38  motivo                      1581 non-null   object \n",
      " 39  expectativas                1581 non-null   object \n",
      " 40  aval_geral                  1581 non-null   float64\n",
      " 41  aval_banheiros              1581 non-null   float64\n",
      " 42  aval_seguranca              1581 non-null   float64\n",
      " 43  aval_precos                 1581 non-null   float64\n",
      " 44  proxima_edicao              1581 non-null   bool   \n",
      " 45  motivo_nao                  1581 non-null   object \n",
      " 46  blocos_de_rua               1581 non-null   bool   \n",
      " 47  escola_samba_caricato       1581 non-null   bool   \n",
      " 48  eventos_privados            1581 non-null   bool   \n",
      " 49  palcos                      1581 non-null   bool   \n",
      " 50  t_visita_amigos             218 non-null    object \n",
      " 51  t_city_tour                 218 non-null    object \n",
      " 52  t_visita_cultural           218 non-null    object \n",
      " 53  t_compras                   218 non-null    object \n",
      " 54  t_gastronomia               218 non-null    object \n",
      " 55  principal_patrocinador      1581 non-null   object \n",
      " 56  outro_patrocinador          1581 non-null   object \n",
      " 57  genero                      1581 non-null   object \n",
      " 58  escolaridade                1581 non-null   object \n",
      " 59  estado_civil                1581 non-null   object \n",
      " 60  faixa_renda                 0 non-null      float64\n",
      " 61  int_renda                   1581 non-null   int64  \n",
      " 62  nivel_gastos                1581 non-null   object \n",
      " 63  categoria_escolaridade      1581 non-null   object \n",
      " 64  categoria_transporte        218 non-null    object \n",
      " 65  categoria_hospedagem        1581 non-null   object \n",
      " 66  categoria_regiao            1581 non-null   object \n",
      " 67  faixa_etaria                1581 non-null   object \n",
      "dtypes: bool(5), float64(16), int64(9), object(38)\n",
      "memory usage: 786.0+ KB\n"
     ]
    }
   ],
   "source": [
    "df.info()"
   ]
  },
  {
   "cell_type": "code",
   "execution_count": 105,
   "id": "33b78c26",
   "metadata": {
    "scrolled": true
   },
   "outputs": [
    {
     "data": {
      "text/plain": [
       "Series([], Name: t_hospedagem, dtype: object)"
      ]
     },
     "execution_count": 105,
     "metadata": {},
     "output_type": "execute_result"
    }
   ],
   "source": [
    "df['t_hospedagem'][df['morador']=='Visitantes'][df['t_hospedagem.1'].isnull()]"
   ]
  },
  {
   "cell_type": "code",
   "execution_count": 106,
   "id": "a8f3c64e",
   "metadata": {},
   "outputs": [],
   "source": [
    "df[['alimentacao', 'transporte_interno', 'compras', 'ingressos', 'outros', 'total']]=df[['alimentacao', 'transporte_interno', 'compras', 'ingressos', 'outros', 'total']].fillna(0)\n",
    "# Preenchendo preços vazios com 0"
   ]
  },
  {
   "cell_type": "code",
   "execution_count": 107,
   "id": "cadd12a1",
   "metadata": {},
   "outputs": [],
   "source": [
    "df['qtd_pessoas_gasto']=df['qtd_pessoas_gasto'].fillna(1) \n",
    "# Preenchendo quantidades de pessoas vazias com 1 (Ao menos quem estava respondendo a pesquisa)"
   ]
  },
  {
   "cell_type": "code",
   "execution_count": 108,
   "id": "502a112a",
   "metadata": {
    "scrolled": true
   },
   "outputs": [],
   "source": [
    "df.loc[df['morador'] == 'Visitantes', ['t_hospedagem.1', 't_atrativos_passeios']] = df.loc[df['morador'] == 'Visitantes', ['t_hospedagem.1', 't_atrativos_passeios']].fillna(0)\n",
    "# Gastos com hospedagens e passeios vazios preenchidos com 0."
   ]
  },
  {
   "cell_type": "code",
   "execution_count": 109,
   "id": "cce59b78",
   "metadata": {},
   "outputs": [],
   "source": [
    "df[['evolucao', 'motivo']]=df[['evolucao', 'motivo']].fillna('Nao respondeu')\n",
    "# Colocando os dados ausentes nas colunas de motivo de evolução e se evoluiu ou não como \"Não respondeu\""
   ]
  },
  {
   "cell_type": "code",
   "execution_count": 110,
   "id": "88e67724",
   "metadata": {},
   "outputs": [],
   "source": [
    "df['motivo_nao']=df['motivo_nao'].fillna('Nao respondeu')\n"
   ]
  },
  {
   "cell_type": "code",
   "execution_count": 111,
   "id": "999217c4",
   "metadata": {},
   "outputs": [],
   "source": [
    "df['outro_patrocinador']=df['outro_patrocinador'].fillna('Nao possui')"
   ]
  },
  {
   "cell_type": "code",
   "execution_count": 112,
   "id": "3b665769",
   "metadata": {},
   "outputs": [],
   "source": [
    "\n",
    "faixas_preco=[0,500,1000,5000,float('inf')]\n",
    "categoria=['Baixo', 'Médio', 'Alto', 'Muito alto']\n",
    "df['nivel_gastos']=pd.cut(df['gasto_total'], bins=faixas_preco, labels=categoria)\n",
    "# Categorizando níveis de gasto para plotagem de gráfico."
   ]
  },
  {
   "cell_type": "code",
   "execution_count": 113,
   "id": "f669751e",
   "metadata": {
    "scrolled": true
   },
   "outputs": [
    {
     "data": {
      "text/plain": [
       "array(['Ensino superior completo', 'Pos – Graduaçao – Mestrado',\n",
       "       'Ensino superior incompleto', 'Ensino medio completo',\n",
       "       'Ensino fundamental incompleto', 'Ensino medio incompleto',\n",
       "       'Ensino tecnico', 'Pos – Graduaçao – Especializaçao',\n",
       "       'Pos – Graduaçao – Doutorado', 'Ensino fundamental completo',\n",
       "       'Nao respondeu'], dtype=object)"
      ]
     },
     "execution_count": 113,
     "metadata": {},
     "output_type": "execute_result"
    }
   ],
   "source": [
    "df['escolaridade'].unique()"
   ]
  },
  {
   "cell_type": "code",
   "execution_count": 114,
   "id": "c35294dd",
   "metadata": {},
   "outputs": [],
   "source": [
    "def categoriza_escolaridade(x):\n",
    "    if x in ['Ensino fundamental incompleto', 'Ensino fundamental completo', 'Ensino medio incompleto', 'Ensino medio completo']:\n",
    "        return 'Ensino Básico'\n",
    "    elif x in ['Ensino superior completo', 'Ensino superior incompleto', 'Ensino tecnico']:\n",
    "        return 'Graduado'\n",
    "    elif x in ['Pos – Graduaçao – Mestrado', 'Pos – Graduaçao – Especializaçao', 'Pos – Graduaçao – Doutorado', 'MBA']:\n",
    "        return 'Pós'\n",
    "    else:\n",
    "        return 'Outros'\n",
    "    \n",
    "df['categoria_escolaridade'] = df['escolaridade'].apply(categoriza_escolaridade)\n",
    "# Categorizando níveis de estudo para plotagem de gráfico."
   ]
  },
  {
   "cell_type": "code",
   "execution_count": 115,
   "id": "14d66801",
   "metadata": {
    "scrolled": false
   },
   "outputs": [
    {
     "data": {
      "text/plain": [
       "array([nan, 'Aviao', 'onibus rodoviario', 'Outros', 'Carro',\n",
       "       'Outro   Carona', 'Trem', 'Outro   Uber', 'Taxi'], dtype=object)"
      ]
     },
     "execution_count": 115,
     "metadata": {},
     "output_type": "execute_result"
    }
   ],
   "source": [
    "df['t_transp'].unique()"
   ]
  },
  {
   "cell_type": "code",
   "execution_count": 116,
   "id": "a5df7d05",
   "metadata": {},
   "outputs": [],
   "source": [
    "def categoriza_transporte(x):\n",
    "    if x in ['Aviao', 'onibus rodoviario', 'Trem']:\n",
    "        return 'Transporte Coletivo'\n",
    "    elif x in ['Carro', 'Outro   Carona']:\n",
    "        return 'Transporte Privado'\n",
    "    elif x in ['Outro   Uber', 'Taxi']:\n",
    "        return 'Aplicativo'\n",
    "    \n",
    "df['categoria_transporte'] = df['t_transp'].apply(categoriza_transporte)\n",
    "# Categorizando transportes para plotagem de gráfico."
   ]
  },
  {
   "cell_type": "code",
   "execution_count": 117,
   "id": "e8a9f496",
   "metadata": {},
   "outputs": [],
   "source": [
    "def categoria_hospedagem(x):\n",
    "    if x in ['Albergue', 'Outro   flat', 'Hoteis/Pousadas']:\n",
    "        return 'Hospedagem'\n",
    "    elif x in ['Outro   airbnb', 'Outro   aluguel de quarto']:\n",
    "        return 'Airbnb'\n",
    "    elif x in ['Casa de Amigos/Parentes', 'Casa propria/alugada']:\n",
    "        return 'Casa'\n",
    "    else:\n",
    "        return 'Outros'\n",
    "df['categoria_hospedagem'] = df['t_hospedagem'].apply(categoria_hospedagem)\n",
    "# Categorizando hospedagens para plotagem de gráfico."
   ]
  },
  {
   "cell_type": "code",
   "execution_count": 118,
   "id": "3f202bd1",
   "metadata": {},
   "outputs": [
    {
     "data": {
      "text/plain": [
       "0          Morador\n",
       "1          Morador\n",
       "2          Morador\n",
       "3          Morador\n",
       "4          Morador\n",
       "           ...    \n",
       "1576       Morador\n",
       "1577       Morador\n",
       "1578       Morador\n",
       "1579       Morador\n",
       "1580    Visitantes\n",
       "Name: morador, Length: 1581, dtype: object"
      ]
     },
     "execution_count": 118,
     "metadata": {},
     "output_type": "execute_result"
    }
   ],
   "source": [
    "df['morador']"
   ]
  },
  {
   "cell_type": "code",
   "execution_count": null,
   "id": "b5a2f499",
   "metadata": {},
   "outputs": [],
   "source": []
  },
  {
   "cell_type": "code",
   "execution_count": 119,
   "id": "1d22868e",
   "metadata": {},
   "outputs": [],
   "source": [
    "df.loc[df['morador'] == 'Morador', ['bairro_bh', 'regiao_bh']] = df.loc[df['morador'] == 'Morador', ['bairro_bh', 'regiao_bh']].fillna('Desconhecido')\n",
    "# Preenchendo endereços ausentes com desconhecido para moradores."
   ]
  },
  {
   "cell_type": "code",
   "execution_count": 120,
   "id": "0b8b772a",
   "metadata": {
    "scrolled": true
   },
   "outputs": [],
   "source": [
    "def categoria_regiao(x):\n",
    "    if x in ['Minas Gerais', 'Sao Paulo', 'Rio de Janeiro', 'Espirito Santo']:\n",
    "        return 'Sudeste'\n",
    "    elif x in ['Mato Grosso do Sul', 'Goias']:\n",
    "        return 'Centro-Oeste'\n",
    "    elif x in ['Pernambuco', 'Maranhao', 'Rio Grande do Norte', 'Bahia', 'Ceara']:\n",
    "        return 'Nordeste'\n",
    "    elif x in ['Rio Grande do Sul', 'Santa Catarina', 'Parana']:\n",
    "        return 'Sul'\n",
    "    elif x in ['Amazonas']:\n",
    "        return 'Norte'\n",
    "df['categoria_regiao'] = df['estado'].apply(categoria_regiao)\n",
    "# Agrupando regiões para plotagem de gráficos."
   ]
  },
  {
   "cell_type": "code",
   "execution_count": 121,
   "id": "034bc6f4",
   "metadata": {},
   "outputs": [],
   "source": [
    "df['categoria_regiao']=df['categoria_regiao'].fillna('Desconhecido/Inter')"
   ]
  },
  {
   "cell_type": "code",
   "execution_count": 122,
   "id": "eaba3946",
   "metadata": {},
   "outputs": [],
   "source": [
    "df.loc[df['morador'] == 'Visitantes', 'categoria_transporte'] = df.loc[df['morador'] == 'Visitantes', 'categoria_transporte'].fillna('Outros')\n"
   ]
  },
  {
   "cell_type": "code",
   "execution_count": 123,
   "id": "7a257012",
   "metadata": {},
   "outputs": [],
   "source": [
    "df[['estado', 'cidade']]=df[['estado', 'cidade']].fillna('Inter')\n",
    "# COlocando nulos de estado ou cidade para \"inter\", pois são referentes aos foliões gringos."
   ]
  },
  {
   "cell_type": "code",
   "execution_count": 146,
   "id": "977f2a57",
   "metadata": {},
   "outputs": [],
   "source": [
    "# revised salary groups\n",
    "salary_groups = ['Até um salário mínimo (R$ 954,00)',\n",
    "                 'De 1 a 2 salários (R$ 954,00 - R$ 1.908,00)',\n",
    "                 'De 2 a 4 salários (R$ 1.908,00 - R$ 3.816,00)',\n",
    "                 'De 4 a 8 salários (R$ 3.816,00 - R$ 7.632,00)',\n",
    "                 'Acima de 8 salários (acima de R$ 7.632,00)',\n",
    "                 'Não sei',\n",
    "                 'Prefiro não responder']\n",
    "\n",
    "# create a dictionary mapping original salary ranges to revised salary groups\n",
    "salary_map = {'Ate um salario minimo (R$ 954,00 )': salary_groups[0],\n",
    "              'de 1 a 2 salarios (R$ 954,00 – R$ 1908,00)': salary_groups[1],\n",
    "              'de 2 a 3 salarios (R$ 1875,00 – R$ 2862,00)': salary_groups[2],\n",
    "              'de 3 a 4 salarios (R$ 2812,00 – R$ 3816,00)': salary_groups[2],\n",
    "              'de 4 a 5 salarios (R$ 3749,00 – R$ 4770,00)': salary_groups[3],\n",
    "              'de 5 a 6 salarios (R$ 4686,00 – R$ 5724,00)': salary_groups[3],\n",
    "              'de 6 a 7 salarios (R$ 5623,00 – R$ 6678,00)': salary_groups[3],\n",
    "              'de 7 a 8 salarios (R$ 6560,00 – R$ 7632,00)': salary_groups[4],\n",
    "              'de 8 a 9 salarios (R$ 7497,00 – R$ 8586,00)': salary_groups[4],\n",
    "              'de 9 a 10 salarios (R$ 8434,00 – R$ 9540,00)': salary_groups[4],\n",
    "              'Acima de 10 salarios (acima de R$ 9540,00)': salary_groups[4]}\n",
    "\n",
    "# apply the mapping to the \"faixa_renda\" column\n",
    "df['faixa_renda'] = df['faixa_renda'].map(salary_map)"
   ]
  },
  {
   "cell_type": "markdown",
   "id": "e302037f",
   "metadata": {},
   "source": [
    "# Exportando csv"
   ]
  },
  {
   "cell_type": "code",
   "execution_count": 161,
   "id": "5f9824b0",
   "metadata": {},
   "outputs": [],
   "source": [
    "df.to_csv('data.csv') \n",
    "# baixando df usado"
   ]
  },
  {
   "cell_type": "code",
   "execution_count": 153,
   "id": "4523d97b",
   "metadata": {},
   "outputs": [],
   "source": [
    "df.to_csv('df_atual.csv')"
   ]
  },
  {
   "cell_type": "code",
   "execution_count": 152,
   "id": "9bca0a3d",
   "metadata": {
    "scrolled": true
   },
   "outputs": [
    {
     "data": {
      "text/plain": [
       "Baianas Ozadas                 524\n",
       "MONOBLOCO                      268\n",
       "Outros                         184\n",
       "Entao Brilha                   145\n",
       "Bloco Despedida de Carnaval    115\n",
       "Juventude Bronzeada             95\n",
       "Quando come se lambuza          85\n",
       "Bloco Angola Janga              61\n",
       "Bloco Havayanas Usadas          56\n",
       "Tchanzinho Zona Norte           48\n",
       "Name: bloco, dtype: int64"
      ]
     },
     "execution_count": 152,
     "metadata": {},
     "output_type": "execute_result"
    }
   ],
   "source": [
    "df['bloco'].value_counts()"
   ]
  },
  {
   "cell_type": "code",
   "execution_count": 147,
   "id": "838ae422",
   "metadata": {},
   "outputs": [],
   "source": [
    "bins = [16, 24, 39, 59, 74]\n",
    "labels = ['16 até 24 anos', '24 até 39 anos', '39 até 59 anos', '59 até 74 anos']\n",
    "df['faixa_etaria'] = pd.cut(df['idade'], bins=bins, labels=labels, include_lowest=True)"
   ]
  },
  {
   "cell_type": "code",
   "execution_count": 124,
   "id": "edb3aaf6",
   "metadata": {},
   "outputs": [],
   "source": [
    "avals=['aval_geral', 'aval_banheiros', 'aval_seguranca', 'aval_precos']\n",
    "for i in avals:\n",
    "    df[i]=df[i].fillna(df[i].median())\n",
    "# Calculando média de avaliações."
   ]
  },
  {
   "cell_type": "code",
   "execution_count": 144,
   "id": "af32c312",
   "metadata": {
    "scrolled": true
   },
   "outputs": [
    {
     "name": "stdout",
     "output_type": "stream",
     "text": [
      "<class 'pandas.core.frame.DataFrame'>\n",
      "RangeIndex: 1581 entries, 0 to 1580\n",
      "Data columns (total 68 columns):\n",
      " #   Column                      Non-Null Count  Dtype   \n",
      "---  ------                      --------------  -----   \n",
      " 0   Unnamed: 0.2                1581 non-null   int64   \n",
      " 1   level_0                     1581 non-null   int64   \n",
      " 2   Unnamed: 0.1                1581 non-null   int64   \n",
      " 3   index                       1581 non-null   int64   \n",
      " 4   bloco_classificacao         1581 non-null   object  \n",
      " 5   Unnamed: 0                  1581 non-null   int64   \n",
      " 6   morador                     1581 non-null   object  \n",
      " 7   numero_controle             1581 non-null   int64   \n",
      " 8   bloco                       1581 non-null   object  \n",
      " 9   dt_visita                   1581 non-null   object  \n",
      " 10  dt_termino                  1581 non-null   object  \n",
      " 11  tempo_total_entrev          1581 non-null   object  \n",
      " 12  idade                       1581 non-null   int64   \n",
      " 13  pais                        1581 non-null   object  \n",
      " 14  estado                      1581 non-null   object  \n",
      " 15  cidade                      1581 non-null   object  \n",
      " 16  bairro_bh                   1363 non-null   object  \n",
      " 17  regiao_bh                   1363 non-null   object  \n",
      " 18  t_pernoite                  218 non-null    object  \n",
      " 19  t_qtpernoite                218 non-null    float64 \n",
      " 20  t_hospedagem                218 non-null    object  \n",
      " 21  t_transp                    218 non-null    object  \n",
      " 22  t_motivo                    218 non-null    object  \n",
      " 23  t_outro_motivo              218 non-null    object  \n",
      " 24  dias_carnaval               1581 non-null   int64   \n",
      " 25  gasto_total                 1581 non-null   float64 \n",
      " 26  t_hospedagem.1              218 non-null    float64 \n",
      " 27  alimentacao                 1581 non-null   float64 \n",
      " 28  t_atrativos_passeios        218 non-null    float64 \n",
      " 29  transporte_interno          1581 non-null   float64 \n",
      " 30  compras                     1581 non-null   float64 \n",
      " 31  ingressos                   1581 non-null   float64 \n",
      " 32  outros                      1581 non-null   float64 \n",
      " 33  total                       1581 non-null   float64 \n",
      " 34  qtd_pessoas_gasto           1581 non-null   float64 \n",
      " 35  fonte_carnaval              1581 non-null   object  \n",
      " 36  participou_anos_anteriores  1581 non-null   object  \n",
      " 37  evolucao                    1581 non-null   object  \n",
      " 38  motivo                      1581 non-null   object  \n",
      " 39  expectativas                1581 non-null   object  \n",
      " 40  aval_geral                  1581 non-null   float64 \n",
      " 41  aval_banheiros              1581 non-null   float64 \n",
      " 42  aval_seguranca              1581 non-null   float64 \n",
      " 43  aval_precos                 1581 non-null   float64 \n",
      " 44  proxima_edicao              1581 non-null   bool    \n",
      " 45  motivo_nao                  1581 non-null   object  \n",
      " 46  blocos_de_rua               1581 non-null   bool    \n",
      " 47  escola_samba_caricato       1581 non-null   bool    \n",
      " 48  eventos_privados            1581 non-null   bool    \n",
      " 49  palcos                      1581 non-null   bool    \n",
      " 50  t_visita_amigos             218 non-null    object  \n",
      " 51  t_city_tour                 218 non-null    object  \n",
      " 52  t_visita_cultural           218 non-null    object  \n",
      " 53  t_compras                   218 non-null    object  \n",
      " 54  t_gastronomia               218 non-null    object  \n",
      " 55  principal_patrocinador      1581 non-null   object  \n",
      " 56  outro_patrocinador          1581 non-null   object  \n",
      " 57  genero                      1581 non-null   object  \n",
      " 58  escolaridade                1581 non-null   object  \n",
      " 59  estado_civil                1581 non-null   object  \n",
      " 60  faixa_renda                 0 non-null      float64 \n",
      " 61  int_renda                   1581 non-null   int64   \n",
      " 62  nivel_gastos                1581 non-null   category\n",
      " 63  categoria_escolaridade      1581 non-null   object  \n",
      " 64  categoria_transporte        218 non-null    object  \n",
      " 65  categoria_hospedagem        1581 non-null   object  \n",
      " 66  categoria_regiao            1581 non-null   object  \n",
      " 67  faixa_etaria                1581 non-null   object  \n",
      "dtypes: bool(5), category(1), float64(16), int64(9), object(37)\n",
      "memory usage: 775.4+ KB\n"
     ]
    }
   ],
   "source": [
    "df.info()"
   ]
  },
  {
   "cell_type": "code",
   "execution_count": 143,
   "id": "cea0350f",
   "metadata": {},
   "outputs": [
    {
     "name": "stdout",
     "output_type": "stream",
     "text": [
      "Média da avaliação geral de pessoas com gastos altos 1.00\n",
      "\n",
      "Média da avaliação geral: 5.19\n"
     ]
    }
   ],
   "source": [
    "df_gastos = df[df['nivel_gastos']=='Muito alto']\n",
    "print('Média da avaliação geral de pessoas com gastos altos {:.2f}'.format(df_gastos['aval_geral'].mean()))\n",
    "print()\n",
    "print('Média da avaliação geral: {:.2f}'.format(df['aval_geral'].mean()))"
   ]
  },
  {
   "cell_type": "code",
   "execution_count": 142,
   "id": "d1e81d8e",
   "metadata": {},
   "outputs": [
    {
     "name": "stdout",
     "output_type": "stream",
     "text": [
      "Média da avaliação geral de pessoas com mais de 65 anos: 6.47\n",
      "\n",
      "Média da avaliação geral: 5.19\n"
     ]
    }
   ],
   "source": [
    "df_3idade = df[df['idade']>65]\n",
    "print('Média da avaliação geral de pessoas com mais de 65 anos: {:.2f}'.format(df_3idade['aval_geral'].mean()))\n",
    "print()\n",
    "print('Média da avaliação geral: {:.2f}'.format(df['aval_geral'].mean()))"
   ]
  },
  {
   "cell_type": "markdown",
   "id": "0ad9707d",
   "metadata": {},
   "source": [
    "**FATO INTERESSANTE**: A avaliação de pessoas na faixa dos 70 anos parece ser acima da média, e as que gastaram valores absurdos, tiveram uma experiência abaixo da média."
   ]
  },
  {
   "cell_type": "code",
   "execution_count": 141,
   "id": "135ab5c0",
   "metadata": {},
   "outputs": [
    {
     "data": {
      "image/png": "[encoded data removed]",
      "text/plain": [
       "<Figure size 2800x1400 with 4 Axes>"
      ]
     },
     "metadata": {},
     "output_type": "display_data"
    }
   ],
   "source": [
    "colunas=['genero', 'bloco', 'idade', 'nivel_gastos']\n",
    "\n",
    "fig, axs = plt.subplots(nrows=2, ncols=2, figsize=(28, 14)) \n",
    "\n",
    "\n",
    "\n",
    "for i, coluna in enumerate(colunas):\n",
    "    row=i//2\n",
    "    col=i%2\n",
    "    df2=df.groupby(coluna, as_index=False).agg({'aval_geral':'mean'})\n",
    "    axs[row, col].bar(df2[coluna], df2['aval_geral'], color=my_palette) \n",
    "    if coluna=='bloco':\n",
    "        axs[row, col].tick_params(axis='x', rotation=30)\n",
    "    axs[row, col].set_title('Avaliação Geral por {}'.format(coluna), color='#0455BF')\n",
    "plt.subplots_adjust(wspace=0.2, hspace=0.2)\n",
    "plt.savefig('grafico_avaliacao_4.png', transparent=True)\n",
    "plt.show()"
   ]
  },
  {
   "cell_type": "code",
   "execution_count": 140,
   "id": "cd666e31",
   "metadata": {
    "scrolled": true
   },
   "outputs": [
    {
     "data": {
      "image/png": "[encoded data removed]",
      "text/plain": [
       "<Figure size 1000x800 with 1 Axes>"
      ]
     },
     "metadata": {},
     "output_type": "display_data"
    },
    {
     "data": {
      "image/png": "[encoded data removed]",
      "text/plain": [
       "<Figure size 1000x800 with 1 Axes>"
      ]
     },
     "metadata": {},
     "output_type": "display_data"
    },
    {
     "data": {
      "image/png": "[encoded data removed]",
      "text/plain": [
       "<Figure size 1000x800 with 1 Axes>"
      ]
     },
     "metadata": {},
     "output_type": "display_data"
    },
    {
     "data": {
      "image/png": "[encoded data removed]",
      "text/plain": [
       "<Figure size 1000x800 with 1 Axes>"
      ]
     },
     "metadata": {},
     "output_type": "display_data"
    }
   ],
   "source": [
    "colunas = ['genero', 'bloco', 'faixa_etaria', 'nivel_gastos']\n",
    "for coluna in colunas:\n",
    "    df2 = df.groupby(coluna, as_index=False).agg({'aval_geral':'mean'})\n",
    "    plt.figure(figsize=(10,8))\n",
    "    plt.bar(df2[coluna], df2['aval_geral'], color=my_palette)\n",
    "    if coluna == 'bloco':\n",
    "        plt.xticks(rotation=30, ha='right')\n",
    "    plt.title(coluna)\n",
    "    plt.savefig(coluna+'.png', transparent=True)\n",
    "    df2.to_json(coluna+'.json')\n",
    "    plt.show()"
   ]
  },
  {
   "cell_type": "code",
   "execution_count": 139,
   "id": "0686b08c",
   "metadata": {
    "scrolled": true
   },
   "outputs": [
    {
     "data": {
      "image/png": "[encoded data removed]",
      "text/plain": [
       "<Figure size 1400x800 with 1 Axes>"
      ]
     },
     "metadata": {},
     "output_type": "display_data"
    }
   ],
   "source": [
    "plt.figure(figsize=(14,8))\n",
    "plt.barh(aval_renda['faixa_renda'], aval_renda['aval_geral'], color=my_palette)\n",
    "plt.title('Avaliação Geral por faixa de renda', color='#0455BF', fontsize=22) \n",
    "plt.gca().grid(visible=False) \n",
    "plt.box(False)\n",
    "plt.savefig('grafico_avaliacao_renda.png', transparent=True)\n",
    "\n",
    "plt.show()"
   ]
  },
  {
   "cell_type": "code",
   "execution_count": 138,
   "id": "0da40455",
   "metadata": {},
   "outputs": [],
   "source": [
    "aval_renda.to_json(r'C:/Users/gabri/Downloads/aval_renda.json')"
   ]
  },
  {
   "cell_type": "code",
   "execution_count": 137,
   "id": "eeac5ac2",
   "metadata": {},
   "outputs": [
    {
     "data": {
      "text/html": [
       "<div>\n",
       "<style scoped>\n",
       "    .dataframe tbody tr th:only-of-type {\n",
       "        vertical-align: middle;\n",
       "    }\n",
       "\n",
       "    .dataframe tbody tr th {\n",
       "        vertical-align: top;\n",
       "    }\n",
       "\n",
       "    .dataframe thead th {\n",
       "        text-align: right;\n",
       "    }\n",
       "</style>\n",
       "<table border=\"1\" class=\"dataframe\">\n",
       "  <thead>\n",
       "    <tr style=\"text-align: right;\">\n",
       "      <th></th>\n",
       "      <th>faixa_renda</th>\n",
       "      <th>aval_geral</th>\n",
       "    </tr>\n",
       "  </thead>\n",
       "  <tbody>\n",
       "  </tbody>\n",
       "</table>\n",
       "</div>"
      ],
      "text/plain": [
       "Empty DataFrame\n",
       "Columns: [faixa_renda, aval_geral]\n",
       "Index: []"
      ]
     },
     "execution_count": 137,
     "metadata": {},
     "output_type": "execute_result"
    }
   ],
   "source": [
    "aval_renda = df.groupby('faixa_renda', as_index=False).agg({'aval_geral':'mean'})\n",
    "aval_renda\n"
   ]
  },
  {
   "cell_type": "code",
   "execution_count": 136,
   "id": "2b1730d4",
   "metadata": {
    "scrolled": false
   },
   "outputs": [
    {
     "data": {
      "image/png": "[encoded data removed]",
      "text/plain": [
       "<Figure size 1200x1000 with 1 Axes>"
      ]
     },
     "metadata": {},
     "output_type": "display_data"
    }
   ],
   "source": [
    "plt.figure(figsize=(12,10))\n",
    "plt.pie(estado_civil['quantidade'], labels=estado_civil['estado_civil'].unique(), autopct='%1.1f%%', colors=['#0455BF', '#0468BF', '#05C7F2', '#D95204', '#F2C84C'], textprops={'fontsize': 14})\n",
    "plt.title(\"Percentual de frequentadores de cada estado civil\", fontsize=24 , color='#0455BF')\n",
    "plt.show()"
   ]
  },
  {
   "cell_type": "code",
   "execution_count": null,
   "id": "37b2d99b",
   "metadata": {},
   "outputs": [],
   "source": [
    "data_dict = df.to_dict()\n",
    "\n",
    "# Manipulando o dicionário para chegar ao formato desejado\n",
    "result_dict = {\n",
    "    'categories': list(data_dict['category'].values()),\n",
    "    'data': list(data_dict['count'].values())\n",
    "}\n",
    "\n",
    "# Salvando o dicionário como um arquivo JSON\n",
    "import json\n",
    "\n",
    "with open('output.json', 'w') as f:\n",
    "    json.dump(result_dict, f)"
   ]
  },
  {
   "cell_type": "code",
   "execution_count": 125,
   "id": "b84c1625",
   "metadata": {
    "scrolled": true
   },
   "outputs": [
    {
     "name": "stdout",
     "output_type": "stream",
     "text": [
      "<class 'pandas.core.frame.DataFrame'>\n",
      "RangeIndex: 1581 entries, 0 to 1580\n",
      "Data columns (total 68 columns):\n",
      " #   Column                      Non-Null Count  Dtype   \n",
      "---  ------                      --------------  -----   \n",
      " 0   Unnamed: 0.2                1581 non-null   int64   \n",
      " 1   level_0                     1581 non-null   int64   \n",
      " 2   Unnamed: 0.1                1581 non-null   int64   \n",
      " 3   index                       1581 non-null   int64   \n",
      " 4   bloco_classificacao         1581 non-null   object  \n",
      " 5   Unnamed: 0                  1581 non-null   int64   \n",
      " 6   morador                     1581 non-null   object  \n",
      " 7   numero_controle             1581 non-null   int64   \n",
      " 8   bloco                       1581 non-null   object  \n",
      " 9   dt_visita                   1581 non-null   object  \n",
      " 10  dt_termino                  1581 non-null   object  \n",
      " 11  tempo_total_entrev          1581 non-null   object  \n",
      " 12  idade                       1581 non-null   int64   \n",
      " 13  pais                        1581 non-null   object  \n",
      " 14  estado                      1581 non-null   object  \n",
      " 15  cidade                      1581 non-null   object  \n",
      " 16  bairro_bh                   1363 non-null   object  \n",
      " 17  regiao_bh                   1363 non-null   object  \n",
      " 18  t_pernoite                  218 non-null    object  \n",
      " 19  t_qtpernoite                218 non-null    float64 \n",
      " 20  t_hospedagem                218 non-null    object  \n",
      " 21  t_transp                    218 non-null    object  \n",
      " 22  t_motivo                    218 non-null    object  \n",
      " 23  t_outro_motivo              218 non-null    object  \n",
      " 24  dias_carnaval               1581 non-null   int64   \n",
      " 25  gasto_total                 1581 non-null   float64 \n",
      " 26  t_hospedagem.1              218 non-null    float64 \n",
      " 27  alimentacao                 1581 non-null   float64 \n",
      " 28  t_atrativos_passeios        218 non-null    float64 \n",
      " 29  transporte_interno          1581 non-null   float64 \n",
      " 30  compras                     1581 non-null   float64 \n",
      " 31  ingressos                   1581 non-null   float64 \n",
      " 32  outros                      1581 non-null   float64 \n",
      " 33  total                       1581 non-null   float64 \n",
      " 34  qtd_pessoas_gasto           1581 non-null   float64 \n",
      " 35  fonte_carnaval              1581 non-null   object  \n",
      " 36  participou_anos_anteriores  1581 non-null   object  \n",
      " 37  evolucao                    1581 non-null   object  \n",
      " 38  motivo                      1581 non-null   object  \n",
      " 39  expectativas                1581 non-null   object  \n",
      " 40  aval_geral                  1581 non-null   float64 \n",
      " 41  aval_banheiros              1581 non-null   float64 \n",
      " 42  aval_seguranca              1581 non-null   float64 \n",
      " 43  aval_precos                 1581 non-null   float64 \n",
      " 44  proxima_edicao              1581 non-null   bool    \n",
      " 45  motivo_nao                  1581 non-null   object  \n",
      " 46  blocos_de_rua               1581 non-null   bool    \n",
      " 47  escola_samba_caricato       1581 non-null   bool    \n",
      " 48  eventos_privados            1581 non-null   bool    \n",
      " 49  palcos                      1581 non-null   bool    \n",
      " 50  t_visita_amigos             218 non-null    object  \n",
      " 51  t_city_tour                 218 non-null    object  \n",
      " 52  t_visita_cultural           218 non-null    object  \n",
      " 53  t_compras                   218 non-null    object  \n",
      " 54  t_gastronomia               218 non-null    object  \n",
      " 55  principal_patrocinador      1581 non-null   object  \n",
      " 56  outro_patrocinador          1581 non-null   object  \n",
      " 57  genero                      1581 non-null   object  \n",
      " 58  escolaridade                1581 non-null   object  \n",
      " 59  estado_civil                1581 non-null   object  \n",
      " 60  faixa_renda                 0 non-null      float64 \n",
      " 61  int_renda                   1581 non-null   int64   \n",
      " 62  nivel_gastos                1581 non-null   category\n",
      " 63  categoria_escolaridade      1581 non-null   object  \n",
      " 64  categoria_transporte        218 non-null    object  \n",
      " 65  categoria_hospedagem        1581 non-null   object  \n",
      " 66  categoria_regiao            1581 non-null   object  \n",
      " 67  faixa_etaria                1581 non-null   object  \n",
      "dtypes: bool(5), category(1), float64(16), int64(9), object(37)\n",
      "memory usage: 775.4+ KB\n"
     ]
    }
   ],
   "source": [
    "df.info()"
   ]
  },
  {
   "cell_type": "code",
   "execution_count": 126,
   "id": "207ccb26",
   "metadata": {},
   "outputs": [],
   "source": [
    "# Comparando gastos financeiros com características pessoais.\n",
    "financeiro=['int_renda','gasto_total', 't_hospedagem.1', 'alimentacao', 't_atrativos_passeios', 'transporte_interno', 'compras', 'ingressos', 'outros', 'total']\n",
    "pessoal=['idade', 'aval_geral', 'aval_banheiros', 'aval_seguranca', 'aval_precos']"
   ]
  },
  {
   "cell_type": "code",
   "execution_count": 127,
   "id": "9f9e03ff",
   "metadata": {
    "scrolled": true
   },
   "outputs": [
    {
     "data": {
      "text/html": [
       "<div>\n",
       "<style scoped>\n",
       "    .dataframe tbody tr th:only-of-type {\n",
       "        vertical-align: middle;\n",
       "    }\n",
       "\n",
       "    .dataframe tbody tr th {\n",
       "        vertical-align: top;\n",
       "    }\n",
       "\n",
       "    .dataframe thead th {\n",
       "        text-align: right;\n",
       "    }\n",
       "</style>\n",
       "<table border=\"1\" class=\"dataframe\">\n",
       "  <thead>\n",
       "    <tr style=\"text-align: right;\">\n",
       "      <th></th>\n",
       "      <th>idade</th>\n",
       "      <th>aval_geral</th>\n",
       "      <th>aval_banheiros</th>\n",
       "      <th>aval_seguranca</th>\n",
       "      <th>aval_precos</th>\n",
       "    </tr>\n",
       "  </thead>\n",
       "  <tbody>\n",
       "    <tr>\n",
       "      <th>int_renda</th>\n",
       "      <td>0.111156</td>\n",
       "      <td>-0.021273</td>\n",
       "      <td>0.032325</td>\n",
       "      <td>0.141882</td>\n",
       "      <td>-0.006964</td>\n",
       "    </tr>\n",
       "    <tr>\n",
       "      <th>gasto_total</th>\n",
       "      <td>0.049281</td>\n",
       "      <td>-0.069643</td>\n",
       "      <td>0.052113</td>\n",
       "      <td>0.115021</td>\n",
       "      <td>0.028324</td>\n",
       "    </tr>\n",
       "    <tr>\n",
       "      <th>t_hospedagem.1</th>\n",
       "      <td>0.071481</td>\n",
       "      <td>-0.162523</td>\n",
       "      <td>0.074958</td>\n",
       "      <td>0.022498</td>\n",
       "      <td>-0.296854</td>\n",
       "    </tr>\n",
       "    <tr>\n",
       "      <th>alimentacao</th>\n",
       "      <td>0.047047</td>\n",
       "      <td>-0.030498</td>\n",
       "      <td>0.041357</td>\n",
       "      <td>0.112095</td>\n",
       "      <td>0.086580</td>\n",
       "    </tr>\n",
       "    <tr>\n",
       "      <th>t_atrativos_passeios</th>\n",
       "      <td>0.060464</td>\n",
       "      <td>-0.106869</td>\n",
       "      <td>-0.035037</td>\n",
       "      <td>0.055591</td>\n",
       "      <td>-0.103041</td>\n",
       "    </tr>\n",
       "    <tr>\n",
       "      <th>transporte_interno</th>\n",
       "      <td>0.056136</td>\n",
       "      <td>-0.041464</td>\n",
       "      <td>-0.021815</td>\n",
       "      <td>0.038745</td>\n",
       "      <td>0.020050</td>\n",
       "    </tr>\n",
       "    <tr>\n",
       "      <th>compras</th>\n",
       "      <td>0.058425</td>\n",
       "      <td>-0.020453</td>\n",
       "      <td>0.062674</td>\n",
       "      <td>0.092075</td>\n",
       "      <td>0.059206</td>\n",
       "    </tr>\n",
       "    <tr>\n",
       "      <th>ingressos</th>\n",
       "      <td>-0.041746</td>\n",
       "      <td>-0.048186</td>\n",
       "      <td>-0.000764</td>\n",
       "      <td>0.036795</td>\n",
       "      <td>0.002124</td>\n",
       "    </tr>\n",
       "    <tr>\n",
       "      <th>outros</th>\n",
       "      <td>0.067911</td>\n",
       "      <td>-0.045972</td>\n",
       "      <td>-0.011180</td>\n",
       "      <td>0.039547</td>\n",
       "      <td>-0.033499</td>\n",
       "    </tr>\n",
       "    <tr>\n",
       "      <th>total</th>\n",
       "      <td>0.056248</td>\n",
       "      <td>-0.064628</td>\n",
       "      <td>0.053156</td>\n",
       "      <td>0.119565</td>\n",
       "      <td>0.034001</td>\n",
       "    </tr>\n",
       "  </tbody>\n",
       "</table>\n",
       "</div>"
      ],
      "text/plain": [
       "                         idade  aval_geral  aval_banheiros  aval_seguranca  \\\n",
       "int_renda             0.111156   -0.021273        0.032325        0.141882   \n",
       "gasto_total           0.049281   -0.069643        0.052113        0.115021   \n",
       "t_hospedagem.1        0.071481   -0.162523        0.074958        0.022498   \n",
       "alimentacao           0.047047   -0.030498        0.041357        0.112095   \n",
       "t_atrativos_passeios  0.060464   -0.106869       -0.035037        0.055591   \n",
       "transporte_interno    0.056136   -0.041464       -0.021815        0.038745   \n",
       "compras               0.058425   -0.020453        0.062674        0.092075   \n",
       "ingressos            -0.041746   -0.048186       -0.000764        0.036795   \n",
       "outros                0.067911   -0.045972       -0.011180        0.039547   \n",
       "total                 0.056248   -0.064628        0.053156        0.119565   \n",
       "\n",
       "                      aval_precos  \n",
       "int_renda               -0.006964  \n",
       "gasto_total              0.028324  \n",
       "t_hospedagem.1          -0.296854  \n",
       "alimentacao              0.086580  \n",
       "t_atrativos_passeios    -0.103041  \n",
       "transporte_interno       0.020050  \n",
       "compras                  0.059206  \n",
       "ingressos                0.002124  \n",
       "outros                  -0.033499  \n",
       "total                    0.034001  "
      ]
     },
     "execution_count": 127,
     "metadata": {},
     "output_type": "execute_result"
    }
   ],
   "source": [
    "df.corr().loc[financeiro, pessoal]"
   ]
  },
  {
   "cell_type": "code",
   "execution_count": 128,
   "id": "c49c5ab1",
   "metadata": {
    "scrolled": true
   },
   "outputs": [
    {
     "data": {
      "text/plain": [
       "<AxesSubplot:>"
      ]
     },
     "execution_count": 128,
     "metadata": {},
     "output_type": "execute_result"
    },
    {
     "data": {
      "image/png": "[encoded data removed]",
      "text/plain": [
       "<Figure size 1000x800 with 2 Axes>"
      ]
     },
     "metadata": {},
     "output_type": "display_data"
    }
   ],
   "source": [
    "fig, ax = plt.subplots(figsize=(10, 8))\n",
    "\n",
    "sns.heatmap(df.corr().loc[financeiro, pessoal], annot=True, cmap='coolwarm', ax=ax)\n"
   ]
  },
  {
   "cell_type": "code",
   "execution_count": 129,
   "id": "28727eaa",
   "metadata": {},
   "outputs": [],
   "source": [
    "#Quanto maior os gastos, menor a avaliação geral"
   ]
  },
  {
   "cell_type": "code",
   "execution_count": 130,
   "id": "b74c41ed",
   "metadata": {},
   "outputs": [],
   "source": [
    "renda=df.pivot_table(index=['int_renda', 'genero'], values='aval_geral', aggfunc='mean')"
   ]
  },
  {
   "cell_type": "code",
   "execution_count": 131,
   "id": "41487cfb",
   "metadata": {},
   "outputs": [
    {
     "data": {
      "image/png": "[encoded data removed]",
      "text/plain": [
       "<Figure size 1800x600 with 2 Axes>"
      ]
     },
     "metadata": {},
     "output_type": "display_data"
    }
   ],
   "source": [
    "\n",
    "g = sns.catplot(x='int_renda', y='aval_geral', kind='bar', data=df, col='genero', ci=None, palette=my_palette, height=6, aspect=1.5)\n",
    "g.set_axis_labels('Faixa de renda', 'Avaliação geral')\n",
    "\n",
    "plt.show()\n"
   ]
  },
  {
   "cell_type": "code",
   "execution_count": 132,
   "id": "70150f4c",
   "metadata": {},
   "outputs": [
    {
     "data": {
      "text/plain": [
       "<seaborn.axisgrid.FacetGrid at 0x1d39bed6670>"
      ]
     },
     "execution_count": 132,
     "metadata": {},
     "output_type": "execute_result"
    },
    {
     "data": {
      "image/png": "[encoded data removed]",
      "text/plain": [
       "<Figure size 900x600 with 1 Axes>"
      ]
     },
     "metadata": {},
     "output_type": "display_data"
    }
   ],
   "source": [
    "g = sns.catplot(x='dias_carnaval', y='aval_geral', kind='bar', data=df, ci=None, palette=my_palette, height=6, aspect=1.5)\n",
    "g.set_axis_labels('Dias no Carnaval', 'Avaliação geral')\n"
   ]
  },
  {
   "cell_type": "code",
   "execution_count": 137,
   "id": "f1b538d6",
   "metadata": {},
   "outputs": [
    {
     "data": {
      "text/html": [
       "<div>\n",
       "<style scoped>\n",
       "    .dataframe tbody tr th:only-of-type {\n",
       "        vertical-align: middle;\n",
       "    }\n",
       "\n",
       "    .dataframe tbody tr th {\n",
       "        vertical-align: top;\n",
       "    }\n",
       "\n",
       "    .dataframe thead th {\n",
       "        text-align: right;\n",
       "    }\n",
       "</style>\n",
       "<table border=\"1\" class=\"dataframe\">\n",
       "  <thead>\n",
       "    <tr style=\"text-align: right;\">\n",
       "      <th></th>\n",
       "      <th>faixa_renda</th>\n",
       "      <th>aval_geral</th>\n",
       "    </tr>\n",
       "  </thead>\n",
       "  <tbody>\n",
       "  </tbody>\n",
       "</table>\n",
       "</div>"
      ],
      "text/plain": [
       "Empty DataFrame\n",
       "Columns: [faixa_renda, aval_geral]\n",
       "Index: []"
      ]
     },
     "execution_count": 137,
     "metadata": {},
     "output_type": "execute_result"
    }
   ],
   "source": [
    "data_dict = df.to_dict()\n",
    "\n",
    "# Manipulando o dicionário para chegar ao formato desejado\n",
    "result_dict = {\n",
    "    'categories': list(data_dict[''].values()),\n",
    "    'data': list(data_dict['count'].values())\n",
    "}\n",
    "\n",
    "# Salvando o dicionário como um arquivo JSON\n",
    "import json\n",
    "\n",
    "with open('output.json', 'w') as f:\n",
    "    json.dump(result_dict, f)"
   ]
  },
  {
   "cell_type": "code",
   "execution_count": 133,
   "id": "4ffb2dd7",
   "metadata": {},
   "outputs": [],
   "source": [
    "blocos=df.pivot_table(index='bloco', values='aval_geral', aggfunc='mean')"
   ]
  },
  {
   "cell_type": "code",
   "execution_count": 134,
   "id": "b2bba080",
   "metadata": {},
   "outputs": [
    {
     "data": {
      "text/html": [
       "<div>\n",
       "<style scoped>\n",
       "    .dataframe tbody tr th:only-of-type {\n",
       "        vertical-align: middle;\n",
       "    }\n",
       "\n",
       "    .dataframe tbody tr th {\n",
       "        vertical-align: top;\n",
       "    }\n",
       "\n",
       "    .dataframe thead th {\n",
       "        text-align: right;\n",
       "    }\n",
       "</style>\n",
       "<table border=\"1\" class=\"dataframe\">\n",
       "  <thead>\n",
       "    <tr style=\"text-align: right;\">\n",
       "      <th></th>\n",
       "      <th>aval_geral</th>\n",
       "    </tr>\n",
       "    <tr>\n",
       "      <th>bloco</th>\n",
       "      <th></th>\n",
       "    </tr>\n",
       "  </thead>\n",
       "  <tbody>\n",
       "    <tr>\n",
       "      <th>Baianas Ozadas</th>\n",
       "      <td>5.106870</td>\n",
       "    </tr>\n",
       "    <tr>\n",
       "      <th>Bloco Angola Janga</th>\n",
       "      <td>4.590164</td>\n",
       "    </tr>\n",
       "    <tr>\n",
       "      <th>Bloco Despedida de Carnaval</th>\n",
       "      <td>5.860870</td>\n",
       "    </tr>\n",
       "    <tr>\n",
       "      <th>Bloco Havayanas Usadas</th>\n",
       "      <td>7.035714</td>\n",
       "    </tr>\n",
       "    <tr>\n",
       "      <th>Entao Brilha</th>\n",
       "      <td>5.758621</td>\n",
       "    </tr>\n",
       "    <tr>\n",
       "      <th>Juventude Bronzeada</th>\n",
       "      <td>5.242105</td>\n",
       "    </tr>\n",
       "    <tr>\n",
       "      <th>MONOBLOCO</th>\n",
       "      <td>4.347015</td>\n",
       "    </tr>\n",
       "    <tr>\n",
       "      <th>Outros</th>\n",
       "      <td>5.505435</td>\n",
       "    </tr>\n",
       "    <tr>\n",
       "      <th>Quando come se lambuza</th>\n",
       "      <td>4.458824</td>\n",
       "    </tr>\n",
       "    <tr>\n",
       "      <th>Tchanzinho Zona Norte</th>\n",
       "      <td>6.229167</td>\n",
       "    </tr>\n",
       "  </tbody>\n",
       "</table>\n",
       "</div>"
      ],
      "text/plain": [
       "                             aval_geral\n",
       "bloco                                  \n",
       "Baianas Ozadas                 5.106870\n",
       "Bloco Angola Janga             4.590164\n",
       "Bloco Despedida de Carnaval    5.860870\n",
       "Bloco Havayanas Usadas         7.035714\n",
       "Entao Brilha                   5.758621\n",
       "Juventude Bronzeada            5.242105\n",
       "MONOBLOCO                      4.347015\n",
       "Outros                         5.505435\n",
       "Quando come se lambuza         4.458824\n",
       "Tchanzinho Zona Norte          6.229167"
      ]
     },
     "execution_count": 134,
     "metadata": {},
     "output_type": "execute_result"
    }
   ],
   "source": [
    "blocos"
   ]
  },
  {
   "cell_type": "code",
   "execution_count": 167,
   "id": "bbbb19b8",
   "metadata": {},
   "outputs": [],
   "source": [
    "# Gerando um dicionário a partir do DataFrame\n",
    "data_dict = blocos.to_dict()\n",
    "\n",
    "# Obtendo as categorias a partir das chaves do dicionário 'aval_geral'\n",
    "categories = list(data_dict['aval_geral'].keys())\n",
    "\n",
    "# Manipulando o dicionário para chegar ao formato desejado\n",
    "result_dict = {\n",
    "    'categories': categories,\n",
    "    'data': list(data_dict['aval_geral'].values())\n",
    "}\n",
    "\n",
    "# Salvando o dicionário como um arquivo JSON\n",
    "import json\n",
    "\n",
    "with open('arquivo.json', 'w') as f:\n",
    "    json.dump(result_dict, f)"
   ]
  },
  {
   "cell_type": "code",
   "execution_count": null,
   "id": "b1d66066",
   "metadata": {},
   "outputs": [],
   "source": []
  },
  {
   "cell_type": "code",
   "execution_count": 135,
   "id": "41e1903f",
   "metadata": {},
   "outputs": [
    {
     "data": {
      "text/html": [
       "<div>\n",
       "<style scoped>\n",
       "    .dataframe tbody tr th:only-of-type {\n",
       "        vertical-align: middle;\n",
       "    }\n",
       "\n",
       "    .dataframe tbody tr th {\n",
       "        vertical-align: top;\n",
       "    }\n",
       "\n",
       "    .dataframe thead th {\n",
       "        text-align: right;\n",
       "    }\n",
       "</style>\n",
       "<table border=\"1\" class=\"dataframe\">\n",
       "  <thead>\n",
       "    <tr style=\"text-align: right;\">\n",
       "      <th></th>\n",
       "      <th>estado_civil</th>\n",
       "      <th>quantidade</th>\n",
       "      <th>percentual_do_total</th>\n",
       "    </tr>\n",
       "  </thead>\n",
       "  <tbody>\n",
       "    <tr>\n",
       "      <th>0</th>\n",
       "      <td>Casado (a)</td>\n",
       "      <td>309</td>\n",
       "      <td>19.544592</td>\n",
       "    </tr>\n",
       "    <tr>\n",
       "      <th>1</th>\n",
       "      <td>Divorciado (a)</td>\n",
       "      <td>72</td>\n",
       "      <td>4.554080</td>\n",
       "    </tr>\n",
       "    <tr>\n",
       "      <th>2</th>\n",
       "      <td>Outro</td>\n",
       "      <td>11</td>\n",
       "      <td>0.695762</td>\n",
       "    </tr>\n",
       "    <tr>\n",
       "      <th>3</th>\n",
       "      <td>Solteiro (a)</td>\n",
       "      <td>1174</td>\n",
       "      <td>74.256799</td>\n",
       "    </tr>\n",
       "    <tr>\n",
       "      <th>4</th>\n",
       "      <td>Viuvo (a)</td>\n",
       "      <td>15</td>\n",
       "      <td>0.948767</td>\n",
       "    </tr>\n",
       "  </tbody>\n",
       "</table>\n",
       "</div>"
      ],
      "text/plain": [
       "     estado_civil  quantidade  percentual_do_total\n",
       "0      Casado (a)         309            19.544592\n",
       "1  Divorciado (a)          72             4.554080\n",
       "2           Outro          11             0.695762\n",
       "3    Solteiro (a)        1174            74.256799\n",
       "4       Viuvo (a)          15             0.948767"
      ]
     },
     "execution_count": 135,
     "metadata": {},
     "output_type": "execute_result"
    }
   ],
   "source": [
    "# Criando a tabela com número de pessoas por estado civil e calculando o percentual do total de cada um\n",
    "estado_civil = df.groupby('estado_civil', as_index=False).agg({'numero_controle':'nunique'})\n",
    "estado_civil.columns = ['estado_civil', 'quantidade']\n",
    "estado_civil['percentual_do_total'] = (estado_civil['quantidade']/estado_civil['quantidade'].sum())*100\n",
    "estado_civil"
   ]
  },
  {
   "cell_type": "code",
   "execution_count": 145,
   "id": "2c163a57",
   "metadata": {},
   "outputs": [
    {
     "data": {
      "text/plain": [
       "12      False\n",
       "37      False\n",
       "49      False\n",
       "54      False\n",
       "58      False\n",
       "        ...  \n",
       "1536    False\n",
       "1560    False\n",
       "1567    False\n",
       "1569    False\n",
       "1580    False\n",
       "Name: t_gastronomia, Length: 218, dtype: object"
      ]
     },
     "execution_count": 145,
     "metadata": {},
     "output_type": "execute_result"
    }
   ],
   "source": [
    "df['t_gastronomia'][df['morador']=='Visitantes']"
   ]
  },
  {
   "cell_type": "code",
   "execution_count": 151,
   "id": "7554acf9",
   "metadata": {
    "scrolled": true
   },
   "outputs": [
    {
     "data": {
      "text/plain": [
       "array([nan], dtype=object)"
      ]
     },
     "execution_count": 151,
     "metadata": {},
     "output_type": "execute_result"
    }
   ],
   "source": [
    "df.faixa_renda.unique()"
   ]
  },
  {
   "cell_type": "code",
   "execution_count": 150,
   "id": "e6961be4",
   "metadata": {},
   "outputs": [],
   "source": [
    "top10=df['bloco'].value_counts().nlargest(10).index.to_list()\n",
    "df.loc[~df['bloco'].isin(top10),'bloco']= 'Outros' "
   ]
  },
  {
   "cell_type": "code",
   "execution_count": 149,
   "id": "e14d08d4",
   "metadata": {
    "scrolled": true
   },
   "outputs": [
    {
     "name": "stdout",
     "output_type": "stream",
     "text": [
      "<class 'pandas.core.frame.DataFrame'>\n",
      "RangeIndex: 1581 entries, 0 to 1580\n",
      "Data columns (total 68 columns):\n",
      " #   Column                      Non-Null Count  Dtype   \n",
      "---  ------                      --------------  -----   \n",
      " 0   Unnamed: 0.2                1581 non-null   int64   \n",
      " 1   level_0                     1581 non-null   int64   \n",
      " 2   Unnamed: 0.1                1581 non-null   int64   \n",
      " 3   index                       1581 non-null   int64   \n",
      " 4   bloco_classificacao         1581 non-null   object  \n",
      " 5   Unnamed: 0                  1581 non-null   int64   \n",
      " 6   morador                     1581 non-null   object  \n",
      " 7   numero_controle             1581 non-null   int64   \n",
      " 8   bloco                       1581 non-null   object  \n",
      " 9   dt_visita                   1581 non-null   object  \n",
      " 10  dt_termino                  1581 non-null   object  \n",
      " 11  tempo_total_entrev          1581 non-null   object  \n",
      " 12  idade                       1581 non-null   int64   \n",
      " 13  pais                        1581 non-null   object  \n",
      " 14  estado                      1581 non-null   object  \n",
      " 15  cidade                      1581 non-null   object  \n",
      " 16  bairro_bh                   1363 non-null   object  \n",
      " 17  regiao_bh                   1363 non-null   object  \n",
      " 18  t_pernoite                  218 non-null    object  \n",
      " 19  t_qtpernoite                218 non-null    float64 \n",
      " 20  t_hospedagem                218 non-null    object  \n",
      " 21  t_transp                    218 non-null    object  \n",
      " 22  t_motivo                    218 non-null    object  \n",
      " 23  t_outro_motivo              218 non-null    object  \n",
      " 24  dias_carnaval               1581 non-null   int64   \n",
      " 25  gasto_total                 1581 non-null   float64 \n",
      " 26  t_hospedagem.1              218 non-null    float64 \n",
      " 27  alimentacao                 1581 non-null   float64 \n",
      " 28  t_atrativos_passeios        218 non-null    float64 \n",
      " 29  transporte_interno          1581 non-null   float64 \n",
      " 30  compras                     1581 non-null   float64 \n",
      " 31  ingressos                   1581 non-null   float64 \n",
      " 32  outros                      1581 non-null   float64 \n",
      " 33  total                       1581 non-null   float64 \n",
      " 34  qtd_pessoas_gasto           1581 non-null   float64 \n",
      " 35  fonte_carnaval              1581 non-null   object  \n",
      " 36  participou_anos_anteriores  1581 non-null   object  \n",
      " 37  evolucao                    1581 non-null   object  \n",
      " 38  motivo                      1581 non-null   object  \n",
      " 39  expectativas                1581 non-null   object  \n",
      " 40  aval_geral                  1581 non-null   float64 \n",
      " 41  aval_banheiros              1581 non-null   float64 \n",
      " 42  aval_seguranca              1581 non-null   float64 \n",
      " 43  aval_precos                 1581 non-null   float64 \n",
      " 44  proxima_edicao              1581 non-null   bool    \n",
      " 45  motivo_nao                  1581 non-null   object  \n",
      " 46  blocos_de_rua               1581 non-null   bool    \n",
      " 47  escola_samba_caricato       1581 non-null   bool    \n",
      " 48  eventos_privados            1581 non-null   bool    \n",
      " 49  palcos                      1581 non-null   bool    \n",
      " 50  t_visita_amigos             218 non-null    object  \n",
      " 51  t_city_tour                 218 non-null    object  \n",
      " 52  t_visita_cultural           218 non-null    object  \n",
      " 53  t_compras                   218 non-null    object  \n",
      " 54  t_gastronomia               218 non-null    object  \n",
      " 55  principal_patrocinador      1581 non-null   object  \n",
      " 56  outro_patrocinador          1581 non-null   object  \n",
      " 57  genero                      1581 non-null   object  \n",
      " 58  escolaridade                1581 non-null   object  \n",
      " 59  estado_civil                1581 non-null   object  \n",
      " 60  faixa_renda                 0 non-null      object  \n",
      " 61  int_renda                   1581 non-null   int64   \n",
      " 62  nivel_gastos                1581 non-null   category\n",
      " 63  categoria_escolaridade      1581 non-null   object  \n",
      " 64  categoria_transporte        218 non-null    object  \n",
      " 65  categoria_hospedagem        1581 non-null   object  \n",
      " 66  categoria_regiao            1581 non-null   object  \n",
      " 67  faixa_etaria                1581 non-null   category\n",
      "dtypes: bool(5), category(2), float64(15), int64(9), object(37)\n",
      "memory usage: 764.8+ KB\n"
     ]
    }
   ],
   "source": [
    "df.info()"
   ]
  },
  {
   "cell_type": "code",
   "execution_count": 154,
   "id": "b3ea334b",
   "metadata": {
    "scrolled": true
   },
   "outputs": [
    {
     "name": "stdout",
     "output_type": "stream",
     "text": [
      "<class 'pandas.core.frame.DataFrame'>\n",
      "RangeIndex: 1581 entries, 0 to 1580\n",
      "Data columns (total 68 columns):\n",
      " #   Column                      Non-Null Count  Dtype   \n",
      "---  ------                      --------------  -----   \n",
      " 0   Unnamed: 0.2                1581 non-null   int64   \n",
      " 1   level_0                     1581 non-null   int64   \n",
      " 2   Unnamed: 0.1                1581 non-null   int64   \n",
      " 3   index                       1581 non-null   int64   \n",
      " 4   bloco_classificacao         1581 non-null   object  \n",
      " 5   Unnamed: 0                  1581 non-null   int64   \n",
      " 6   morador                     1581 non-null   object  \n",
      " 7   numero_controle             1581 non-null   int64   \n",
      " 8   bloco                       1581 non-null   object  \n",
      " 9   dt_visita                   1581 non-null   object  \n",
      " 10  dt_termino                  1581 non-null   object  \n",
      " 11  tempo_total_entrev          1581 non-null   object  \n",
      " 12  idade                       1581 non-null   int64   \n",
      " 13  pais                        1581 non-null   object  \n",
      " 14  estado                      1581 non-null   object  \n",
      " 15  cidade                      1581 non-null   object  \n",
      " 16  bairro_bh                   1363 non-null   object  \n",
      " 17  regiao_bh                   1363 non-null   object  \n",
      " 18  t_pernoite                  218 non-null    object  \n",
      " 19  t_qtpernoite                218 non-null    float64 \n",
      " 20  t_hospedagem                218 non-null    object  \n",
      " 21  t_transp                    218 non-null    object  \n",
      " 22  t_motivo                    218 non-null    object  \n",
      " 23  t_outro_motivo              218 non-null    object  \n",
      " 24  dias_carnaval               1581 non-null   int64   \n",
      " 25  gasto_total                 1581 non-null   float64 \n",
      " 26  t_hospedagem.1              218 non-null    float64 \n",
      " 27  alimentacao                 1581 non-null   float64 \n",
      " 28  t_atrativos_passeios        218 non-null    float64 \n",
      " 29  transporte_interno          1581 non-null   float64 \n",
      " 30  compras                     1581 non-null   float64 \n",
      " 31  ingressos                   1581 non-null   float64 \n",
      " 32  outros                      1581 non-null   float64 \n",
      " 33  total                       1581 non-null   float64 \n",
      " 34  qtd_pessoas_gasto           1581 non-null   float64 \n",
      " 35  fonte_carnaval              1581 non-null   object  \n",
      " 36  participou_anos_anteriores  1581 non-null   object  \n",
      " 37  evolucao                    1581 non-null   object  \n",
      " 38  motivo                      1581 non-null   object  \n",
      " 39  expectativas                1581 non-null   object  \n",
      " 40  aval_geral                  1581 non-null   float64 \n",
      " 41  aval_banheiros              1581 non-null   float64 \n",
      " 42  aval_seguranca              1581 non-null   float64 \n",
      " 43  aval_precos                 1581 non-null   float64 \n",
      " 44  proxima_edicao              1581 non-null   bool    \n",
      " 45  motivo_nao                  1581 non-null   object  \n",
      " 46  blocos_de_rua               1581 non-null   bool    \n",
      " 47  escola_samba_caricato       1581 non-null   bool    \n",
      " 48  eventos_privados            1581 non-null   bool    \n",
      " 49  palcos                      1581 non-null   bool    \n",
      " 50  t_visita_amigos             218 non-null    object  \n",
      " 51  t_city_tour                 218 non-null    object  \n",
      " 52  t_visita_cultural           218 non-null    object  \n",
      " 53  t_compras                   218 non-null    object  \n",
      " 54  t_gastronomia               218 non-null    object  \n",
      " 55  principal_patrocinador      1581 non-null   object  \n",
      " 56  outro_patrocinador          1581 non-null   object  \n",
      " 57  genero                      1581 non-null   object  \n",
      " 58  escolaridade                1581 non-null   object  \n",
      " 59  estado_civil                1581 non-null   object  \n",
      " 60  faixa_renda                 0 non-null      object  \n",
      " 61  int_renda                   1581 non-null   int64   \n",
      " 62  nivel_gastos                1581 non-null   category\n",
      " 63  categoria_escolaridade      1581 non-null   object  \n",
      " 64  categoria_transporte        218 non-null    object  \n",
      " 65  categoria_hospedagem        1581 non-null   object  \n",
      " 66  categoria_regiao            1581 non-null   object  \n",
      " 67  faixa_etaria                1581 non-null   category\n",
      "dtypes: bool(5), category(2), float64(15), int64(9), object(37)\n",
      "memory usage: 764.8+ KB\n"
     ]
    }
   ],
   "source": [
    "df.info()"
   ]
  },
  {
   "cell_type": "code",
   "execution_count": null,
   "id": "5674ad8f",
   "metadata": {},
   "outputs": [],
   "source": []
  },
  {
   "cell_type": "code",
   "execution_count": 155,
   "id": "2c0b4353",
   "metadata": {},
   "outputs": [
    {
     "data": {
      "text/plain": [
       "array([nan], dtype=object)"
      ]
     },
     "execution_count": 155,
     "metadata": {},
     "output_type": "execute_result"
    }
   ],
   "source": [
    "df['faixa_renda'].unique()"
   ]
  },
  {
   "cell_type": "code",
   "execution_count": 46,
   "id": "6313cd37",
   "metadata": {},
   "outputs": [
    {
     "ename": "KeyError",
     "evalue": "'De 2 a 4 salários (R$ 1.875,00 - R$ 3.816,00)'",
     "output_type": "error",
     "traceback": [
      "\u001b[1;31m---------------------------------------------------------------------------\u001b[0m",
      "\u001b[1;31mKeyError\u001b[0m                                  Traceback (most recent call last)",
      "Cell \u001b[1;32mIn [46], line 16\u001b[0m\n\u001b[0;32m      2\u001b[0m intervalos \u001b[38;5;241m=\u001b[39m {\n\u001b[0;32m      3\u001b[0m     \u001b[38;5;124m'\u001b[39m\u001b[38;5;124mAte um salario minimo (R$ 954,00 )\u001b[39m\u001b[38;5;124m'\u001b[39m: \u001b[38;5;241m1\u001b[39m,\n\u001b[0;32m      4\u001b[0m     \u001b[38;5;124m'\u001b[39m\u001b[38;5;124mde 1 a 2 salarios (R$ 954,00 – R$ 1908,00)\u001b[39m\u001b[38;5;124m'\u001b[39m: \u001b[38;5;241m2\u001b[39m,\n\u001b[1;32m   (...)\u001b[0m\n\u001b[0;32m     13\u001b[0m     \u001b[38;5;124m'\u001b[39m\u001b[38;5;124mAcima de 10 salarios (acima de R$ 9540,00)\u001b[39m\u001b[38;5;124m'\u001b[39m: \u001b[38;5;241m11\u001b[39m\n\u001b[0;32m     14\u001b[0m }\n\u001b[0;32m     15\u001b[0m df[\u001b[38;5;124m'\u001b[39m\u001b[38;5;124mfaixa_renda\u001b[39m\u001b[38;5;124m'\u001b[39m]\u001b[38;5;241m=\u001b[39mdf[\u001b[38;5;124m'\u001b[39m\u001b[38;5;124mfaixa_renda\u001b[39m\u001b[38;5;124m'\u001b[39m]\u001b[38;5;241m.\u001b[39mastype(\u001b[38;5;28mstr\u001b[39m)\n\u001b[1;32m---> 16\u001b[0m df[\u001b[38;5;124m'\u001b[39m\u001b[38;5;124mint_renda\u001b[39m\u001b[38;5;124m'\u001b[39m] \u001b[38;5;241m=\u001b[39m \u001b[43mdf\u001b[49m\u001b[43m[\u001b[49m\u001b[38;5;124;43m'\u001b[39;49m\u001b[38;5;124;43mfaixa_renda\u001b[39;49m\u001b[38;5;124;43m'\u001b[39;49m\u001b[43m]\u001b[49m\u001b[38;5;241;43m.\u001b[39;49m\u001b[43mapply\u001b[49m\u001b[43m(\u001b[49m\u001b[38;5;28;43;01mlambda\u001b[39;49;00m\u001b[43m \u001b[49m\u001b[43mx\u001b[49m\u001b[43m:\u001b[49m\u001b[43m \u001b[49m\u001b[43mintervalos\u001b[49m\u001b[43m[\u001b[49m\u001b[43mx\u001b[49m\u001b[43m]\u001b[49m\u001b[43m)\u001b[49m\n",
      "File \u001b[1;32m~\\anaconda3\\lib\\site-packages\\pandas\\core\\series.py:4433\u001b[0m, in \u001b[0;36mSeries.apply\u001b[1;34m(self, func, convert_dtype, args, **kwargs)\u001b[0m\n\u001b[0;32m   4323\u001b[0m \u001b[38;5;28;01mdef\u001b[39;00m \u001b[38;5;21mapply\u001b[39m(\n\u001b[0;32m   4324\u001b[0m     \u001b[38;5;28mself\u001b[39m,\n\u001b[0;32m   4325\u001b[0m     func: AggFuncType,\n\u001b[1;32m   (...)\u001b[0m\n\u001b[0;32m   4328\u001b[0m     \u001b[38;5;241m*\u001b[39m\u001b[38;5;241m*\u001b[39mkwargs,\n\u001b[0;32m   4329\u001b[0m ) \u001b[38;5;241m-\u001b[39m\u001b[38;5;241m>\u001b[39m DataFrame \u001b[38;5;241m|\u001b[39m Series:\n\u001b[0;32m   4330\u001b[0m     \u001b[38;5;124;03m\"\"\"\u001b[39;00m\n\u001b[0;32m   4331\u001b[0m \u001b[38;5;124;03m    Invoke function on values of Series.\u001b[39;00m\n\u001b[0;32m   4332\u001b[0m \n\u001b[1;32m   (...)\u001b[0m\n\u001b[0;32m   4431\u001b[0m \u001b[38;5;124;03m    dtype: float64\u001b[39;00m\n\u001b[0;32m   4432\u001b[0m \u001b[38;5;124;03m    \"\"\"\u001b[39;00m\n\u001b[1;32m-> 4433\u001b[0m     \u001b[38;5;28;01mreturn\u001b[39;00m \u001b[43mSeriesApply\u001b[49m\u001b[43m(\u001b[49m\u001b[38;5;28;43mself\u001b[39;49m\u001b[43m,\u001b[49m\u001b[43m \u001b[49m\u001b[43mfunc\u001b[49m\u001b[43m,\u001b[49m\u001b[43m \u001b[49m\u001b[43mconvert_dtype\u001b[49m\u001b[43m,\u001b[49m\u001b[43m \u001b[49m\u001b[43margs\u001b[49m\u001b[43m,\u001b[49m\u001b[43m \u001b[49m\u001b[43mkwargs\u001b[49m\u001b[43m)\u001b[49m\u001b[38;5;241;43m.\u001b[39;49m\u001b[43mapply\u001b[49m\u001b[43m(\u001b[49m\u001b[43m)\u001b[49m\n",
      "File \u001b[1;32m~\\anaconda3\\lib\\site-packages\\pandas\\core\\apply.py:1082\u001b[0m, in \u001b[0;36mSeriesApply.apply\u001b[1;34m(self)\u001b[0m\n\u001b[0;32m   1078\u001b[0m \u001b[38;5;28;01mif\u001b[39;00m \u001b[38;5;28misinstance\u001b[39m(\u001b[38;5;28mself\u001b[39m\u001b[38;5;241m.\u001b[39mf, \u001b[38;5;28mstr\u001b[39m):\n\u001b[0;32m   1079\u001b[0m     \u001b[38;5;66;03m# if we are a string, try to dispatch\u001b[39;00m\n\u001b[0;32m   1080\u001b[0m     \u001b[38;5;28;01mreturn\u001b[39;00m \u001b[38;5;28mself\u001b[39m\u001b[38;5;241m.\u001b[39mapply_str()\n\u001b[1;32m-> 1082\u001b[0m \u001b[38;5;28;01mreturn\u001b[39;00m \u001b[38;5;28;43mself\u001b[39;49m\u001b[38;5;241;43m.\u001b[39;49m\u001b[43mapply_standard\u001b[49m\u001b[43m(\u001b[49m\u001b[43m)\u001b[49m\n",
      "File \u001b[1;32m~\\anaconda3\\lib\\site-packages\\pandas\\core\\apply.py:1137\u001b[0m, in \u001b[0;36mSeriesApply.apply_standard\u001b[1;34m(self)\u001b[0m\n\u001b[0;32m   1131\u001b[0m         values \u001b[38;5;241m=\u001b[39m obj\u001b[38;5;241m.\u001b[39mastype(\u001b[38;5;28mobject\u001b[39m)\u001b[38;5;241m.\u001b[39m_values\n\u001b[0;32m   1132\u001b[0m         \u001b[38;5;66;03m# error: Argument 2 to \"map_infer\" has incompatible type\u001b[39;00m\n\u001b[0;32m   1133\u001b[0m         \u001b[38;5;66;03m# \"Union[Callable[..., Any], str, List[Union[Callable[..., Any], str]],\u001b[39;00m\n\u001b[0;32m   1134\u001b[0m         \u001b[38;5;66;03m# Dict[Hashable, Union[Union[Callable[..., Any], str],\u001b[39;00m\n\u001b[0;32m   1135\u001b[0m         \u001b[38;5;66;03m# List[Union[Callable[..., Any], str]]]]]\"; expected\u001b[39;00m\n\u001b[0;32m   1136\u001b[0m         \u001b[38;5;66;03m# \"Callable[[Any], Any]\"\u001b[39;00m\n\u001b[1;32m-> 1137\u001b[0m         mapped \u001b[38;5;241m=\u001b[39m \u001b[43mlib\u001b[49m\u001b[38;5;241;43m.\u001b[39;49m\u001b[43mmap_infer\u001b[49m\u001b[43m(\u001b[49m\n\u001b[0;32m   1138\u001b[0m \u001b[43m            \u001b[49m\u001b[43mvalues\u001b[49m\u001b[43m,\u001b[49m\n\u001b[0;32m   1139\u001b[0m \u001b[43m            \u001b[49m\u001b[43mf\u001b[49m\u001b[43m,\u001b[49m\u001b[43m  \u001b[49m\u001b[38;5;66;43;03m# type: ignore[arg-type]\u001b[39;49;00m\n\u001b[0;32m   1140\u001b[0m \u001b[43m            \u001b[49m\u001b[43mconvert\u001b[49m\u001b[38;5;241;43m=\u001b[39;49m\u001b[38;5;28;43mself\u001b[39;49m\u001b[38;5;241;43m.\u001b[39;49m\u001b[43mconvert_dtype\u001b[49m\u001b[43m,\u001b[49m\n\u001b[0;32m   1141\u001b[0m \u001b[43m        \u001b[49m\u001b[43m)\u001b[49m\n\u001b[0;32m   1143\u001b[0m \u001b[38;5;28;01mif\u001b[39;00m \u001b[38;5;28mlen\u001b[39m(mapped) \u001b[38;5;129;01mand\u001b[39;00m \u001b[38;5;28misinstance\u001b[39m(mapped[\u001b[38;5;241m0\u001b[39m], ABCSeries):\n\u001b[0;32m   1144\u001b[0m     \u001b[38;5;66;03m# GH#43986 Need to do list(mapped) in order to get treated as nested\u001b[39;00m\n\u001b[0;32m   1145\u001b[0m     \u001b[38;5;66;03m#  See also GH#25959 regarding EA support\u001b[39;00m\n\u001b[0;32m   1146\u001b[0m     \u001b[38;5;28;01mreturn\u001b[39;00m obj\u001b[38;5;241m.\u001b[39m_constructor_expanddim(\u001b[38;5;28mlist\u001b[39m(mapped), index\u001b[38;5;241m=\u001b[39mobj\u001b[38;5;241m.\u001b[39mindex)\n",
      "File \u001b[1;32m~\\anaconda3\\lib\\site-packages\\pandas\\_libs\\lib.pyx:2870\u001b[0m, in \u001b[0;36mpandas._libs.lib.map_infer\u001b[1;34m()\u001b[0m\n",
      "Cell \u001b[1;32mIn [46], line 16\u001b[0m, in \u001b[0;36m<lambda>\u001b[1;34m(x)\u001b[0m\n\u001b[0;32m      2\u001b[0m intervalos \u001b[38;5;241m=\u001b[39m {\n\u001b[0;32m      3\u001b[0m     \u001b[38;5;124m'\u001b[39m\u001b[38;5;124mAte um salario minimo (R$ 954,00 )\u001b[39m\u001b[38;5;124m'\u001b[39m: \u001b[38;5;241m1\u001b[39m,\n\u001b[0;32m      4\u001b[0m     \u001b[38;5;124m'\u001b[39m\u001b[38;5;124mde 1 a 2 salarios (R$ 954,00 – R$ 1908,00)\u001b[39m\u001b[38;5;124m'\u001b[39m: \u001b[38;5;241m2\u001b[39m,\n\u001b[1;32m   (...)\u001b[0m\n\u001b[0;32m     13\u001b[0m     \u001b[38;5;124m'\u001b[39m\u001b[38;5;124mAcima de 10 salarios (acima de R$ 9540,00)\u001b[39m\u001b[38;5;124m'\u001b[39m: \u001b[38;5;241m11\u001b[39m\n\u001b[0;32m     14\u001b[0m }\n\u001b[0;32m     15\u001b[0m df[\u001b[38;5;124m'\u001b[39m\u001b[38;5;124mfaixa_renda\u001b[39m\u001b[38;5;124m'\u001b[39m]\u001b[38;5;241m=\u001b[39mdf[\u001b[38;5;124m'\u001b[39m\u001b[38;5;124mfaixa_renda\u001b[39m\u001b[38;5;124m'\u001b[39m]\u001b[38;5;241m.\u001b[39mastype(\u001b[38;5;28mstr\u001b[39m)\n\u001b[1;32m---> 16\u001b[0m df[\u001b[38;5;124m'\u001b[39m\u001b[38;5;124mint_renda\u001b[39m\u001b[38;5;124m'\u001b[39m] \u001b[38;5;241m=\u001b[39m df[\u001b[38;5;124m'\u001b[39m\u001b[38;5;124mfaixa_renda\u001b[39m\u001b[38;5;124m'\u001b[39m]\u001b[38;5;241m.\u001b[39mapply(\u001b[38;5;28;01mlambda\u001b[39;00m x: \u001b[43mintervalos\u001b[49m\u001b[43m[\u001b[49m\u001b[43mx\u001b[49m\u001b[43m]\u001b[49m)\n",
      "\u001b[1;31mKeyError\u001b[0m: 'De 2 a 4 salários (R$ 1.875,00 - R$ 3.816,00)'"
     ]
    }
   ],
   "source": [
    "# Dicionário com os intervalos e seus respectivos valores inteiros\n",
    "intervalos = {\n",
    "    'Ate um salario minimo (R$ 954,00 )': 1,\n",
    "    'de 1 a 2 salarios (R$ 954,00 – R$ 1908,00)': 2,\n",
    "    'de 2 a 3 salarios (R$ 1875,00 – R$ 2862,00)': 3,\n",
    "    'de 3 a 4 salarios (R$ 2812,00 – R$ 3816,00)': 4,\n",
    "    'de 4 a 5 salarios (R$ 3749,00 – R$ 4770,00)': 5,\n",
    "    'de 5 a 6 salarios (R$ 4686,00 – R$ 5724,00)': 6,\n",
    "    'de 6 a 7 salarios (R$ 5623,00 – R$ 6678,00)': 7,\n",
    "    'de 7 a 8 salarios (R$ 6560,00 – R$ 7632,00)': 8,\n",
    "    'de 8 a 9 salarios (R$ 7497,00 – R$ 8586,00)': 9,\n",
    "    'de 9 a 10 salarios (R$ 8434,00 – R$ 9540,00)': 10,\n",
    "    'Acima de 10 salarios (acima de R$ 9540,00)': 11\n",
    "}\n",
    "df['faixa_renda']=df['faixa_renda'].astype(str)\n",
    "df['int_renda'] = df['faixa_renda'].apply(lambda x: intervalos[x])"
   ]
  },
  {
   "cell_type": "code",
   "execution_count": 11,
   "id": "a2477bea",
   "metadata": {},
   "outputs": [
    {
     "ename": "KeyError",
     "evalue": "'De 2 a 4 salários (R$ 1.875,00 - R$ 3.816,00)'",
     "output_type": "error",
     "traceback": [
      "\u001b[1;31m---------------------------------------------------------------------------\u001b[0m",
      "\u001b[1;31mKeyError\u001b[0m                                  Traceback (most recent call last)",
      "Cell \u001b[1;32mIn [11], line 16\u001b[0m\n\u001b[0;32m      2\u001b[0m intervalos \u001b[38;5;241m=\u001b[39m {\n\u001b[0;32m      3\u001b[0m     \u001b[38;5;124m'\u001b[39m\u001b[38;5;124mAte um salario minimo (R$ 954,00 )\u001b[39m\u001b[38;5;124m'\u001b[39m: \u001b[38;5;241m1\u001b[39m,\n\u001b[0;32m      4\u001b[0m     \u001b[38;5;124m'\u001b[39m\u001b[38;5;124mde 1 a 2 salarios (R$ 954,00 – R$ 1908,00)\u001b[39m\u001b[38;5;124m'\u001b[39m: \u001b[38;5;241m2\u001b[39m,\n\u001b[1;32m   (...)\u001b[0m\n\u001b[0;32m     13\u001b[0m     \u001b[38;5;124m'\u001b[39m\u001b[38;5;124mAcima de 10 salarios (acima de R$ 9540,00)\u001b[39m\u001b[38;5;124m'\u001b[39m: \u001b[38;5;241m11\u001b[39m\n\u001b[0;32m     14\u001b[0m }\n\u001b[0;32m     15\u001b[0m df[\u001b[38;5;124m'\u001b[39m\u001b[38;5;124mfaixa_renda\u001b[39m\u001b[38;5;124m'\u001b[39m]\u001b[38;5;241m=\u001b[39mdf[\u001b[38;5;124m'\u001b[39m\u001b[38;5;124mfaixa_renda\u001b[39m\u001b[38;5;124m'\u001b[39m]\u001b[38;5;241m.\u001b[39mastype(\u001b[38;5;28mstr\u001b[39m)\n\u001b[1;32m---> 16\u001b[0m df[\u001b[38;5;124m'\u001b[39m\u001b[38;5;124mint_renda\u001b[39m\u001b[38;5;124m'\u001b[39m] \u001b[38;5;241m=\u001b[39m \u001b[43mdf\u001b[49m\u001b[43m[\u001b[49m\u001b[38;5;124;43m'\u001b[39;49m\u001b[38;5;124;43mfaixa_renda\u001b[39;49m\u001b[38;5;124;43m'\u001b[39;49m\u001b[43m]\u001b[49m\u001b[38;5;241;43m.\u001b[39;49m\u001b[43mapply\u001b[49m\u001b[43m(\u001b[49m\u001b[38;5;28;43;01mlambda\u001b[39;49;00m\u001b[43m \u001b[49m\u001b[43mx\u001b[49m\u001b[43m:\u001b[49m\u001b[43m \u001b[49m\u001b[43mintervalos\u001b[49m\u001b[43m[\u001b[49m\u001b[43mx\u001b[49m\u001b[43m]\u001b[49m\u001b[43m)\u001b[49m\n",
      "File \u001b[1;32m~\\anaconda3\\lib\\site-packages\\pandas\\core\\series.py:4433\u001b[0m, in \u001b[0;36mSeries.apply\u001b[1;34m(self, func, convert_dtype, args, **kwargs)\u001b[0m\n\u001b[0;32m   4323\u001b[0m \u001b[38;5;28;01mdef\u001b[39;00m \u001b[38;5;21mapply\u001b[39m(\n\u001b[0;32m   4324\u001b[0m     \u001b[38;5;28mself\u001b[39m,\n\u001b[0;32m   4325\u001b[0m     func: AggFuncType,\n\u001b[1;32m   (...)\u001b[0m\n\u001b[0;32m   4328\u001b[0m     \u001b[38;5;241m*\u001b[39m\u001b[38;5;241m*\u001b[39mkwargs,\n\u001b[0;32m   4329\u001b[0m ) \u001b[38;5;241m-\u001b[39m\u001b[38;5;241m>\u001b[39m DataFrame \u001b[38;5;241m|\u001b[39m Series:\n\u001b[0;32m   4330\u001b[0m     \u001b[38;5;124;03m\"\"\"\u001b[39;00m\n\u001b[0;32m   4331\u001b[0m \u001b[38;5;124;03m    Invoke function on values of Series.\u001b[39;00m\n\u001b[0;32m   4332\u001b[0m \n\u001b[1;32m   (...)\u001b[0m\n\u001b[0;32m   4431\u001b[0m \u001b[38;5;124;03m    dtype: float64\u001b[39;00m\n\u001b[0;32m   4432\u001b[0m \u001b[38;5;124;03m    \"\"\"\u001b[39;00m\n\u001b[1;32m-> 4433\u001b[0m     \u001b[38;5;28;01mreturn\u001b[39;00m \u001b[43mSeriesApply\u001b[49m\u001b[43m(\u001b[49m\u001b[38;5;28;43mself\u001b[39;49m\u001b[43m,\u001b[49m\u001b[43m \u001b[49m\u001b[43mfunc\u001b[49m\u001b[43m,\u001b[49m\u001b[43m \u001b[49m\u001b[43mconvert_dtype\u001b[49m\u001b[43m,\u001b[49m\u001b[43m \u001b[49m\u001b[43margs\u001b[49m\u001b[43m,\u001b[49m\u001b[43m \u001b[49m\u001b[43mkwargs\u001b[49m\u001b[43m)\u001b[49m\u001b[38;5;241;43m.\u001b[39;49m\u001b[43mapply\u001b[49m\u001b[43m(\u001b[49m\u001b[43m)\u001b[49m\n",
      "File \u001b[1;32m~\\anaconda3\\lib\\site-packages\\pandas\\core\\apply.py:1082\u001b[0m, in \u001b[0;36mSeriesApply.apply\u001b[1;34m(self)\u001b[0m\n\u001b[0;32m   1078\u001b[0m \u001b[38;5;28;01mif\u001b[39;00m \u001b[38;5;28misinstance\u001b[39m(\u001b[38;5;28mself\u001b[39m\u001b[38;5;241m.\u001b[39mf, \u001b[38;5;28mstr\u001b[39m):\n\u001b[0;32m   1079\u001b[0m     \u001b[38;5;66;03m# if we are a string, try to dispatch\u001b[39;00m\n\u001b[0;32m   1080\u001b[0m     \u001b[38;5;28;01mreturn\u001b[39;00m \u001b[38;5;28mself\u001b[39m\u001b[38;5;241m.\u001b[39mapply_str()\n\u001b[1;32m-> 1082\u001b[0m \u001b[38;5;28;01mreturn\u001b[39;00m \u001b[38;5;28;43mself\u001b[39;49m\u001b[38;5;241;43m.\u001b[39;49m\u001b[43mapply_standard\u001b[49m\u001b[43m(\u001b[49m\u001b[43m)\u001b[49m\n",
      "File \u001b[1;32m~\\anaconda3\\lib\\site-packages\\pandas\\core\\apply.py:1137\u001b[0m, in \u001b[0;36mSeriesApply.apply_standard\u001b[1;34m(self)\u001b[0m\n\u001b[0;32m   1131\u001b[0m         values \u001b[38;5;241m=\u001b[39m obj\u001b[38;5;241m.\u001b[39mastype(\u001b[38;5;28mobject\u001b[39m)\u001b[38;5;241m.\u001b[39m_values\n\u001b[0;32m   1132\u001b[0m         \u001b[38;5;66;03m# error: Argument 2 to \"map_infer\" has incompatible type\u001b[39;00m\n\u001b[0;32m   1133\u001b[0m         \u001b[38;5;66;03m# \"Union[Callable[..., Any], str, List[Union[Callable[..., Any], str]],\u001b[39;00m\n\u001b[0;32m   1134\u001b[0m         \u001b[38;5;66;03m# Dict[Hashable, Union[Union[Callable[..., Any], str],\u001b[39;00m\n\u001b[0;32m   1135\u001b[0m         \u001b[38;5;66;03m# List[Union[Callable[..., Any], str]]]]]\"; expected\u001b[39;00m\n\u001b[0;32m   1136\u001b[0m         \u001b[38;5;66;03m# \"Callable[[Any], Any]\"\u001b[39;00m\n\u001b[1;32m-> 1137\u001b[0m         mapped \u001b[38;5;241m=\u001b[39m \u001b[43mlib\u001b[49m\u001b[38;5;241;43m.\u001b[39;49m\u001b[43mmap_infer\u001b[49m\u001b[43m(\u001b[49m\n\u001b[0;32m   1138\u001b[0m \u001b[43m            \u001b[49m\u001b[43mvalues\u001b[49m\u001b[43m,\u001b[49m\n\u001b[0;32m   1139\u001b[0m \u001b[43m            \u001b[49m\u001b[43mf\u001b[49m\u001b[43m,\u001b[49m\u001b[43m  \u001b[49m\u001b[38;5;66;43;03m# type: ignore[arg-type]\u001b[39;49;00m\n\u001b[0;32m   1140\u001b[0m \u001b[43m            \u001b[49m\u001b[43mconvert\u001b[49m\u001b[38;5;241;43m=\u001b[39;49m\u001b[38;5;28;43mself\u001b[39;49m\u001b[38;5;241;43m.\u001b[39;49m\u001b[43mconvert_dtype\u001b[49m\u001b[43m,\u001b[49m\n\u001b[0;32m   1141\u001b[0m \u001b[43m        \u001b[49m\u001b[43m)\u001b[49m\n\u001b[0;32m   1143\u001b[0m \u001b[38;5;28;01mif\u001b[39;00m \u001b[38;5;28mlen\u001b[39m(mapped) \u001b[38;5;129;01mand\u001b[39;00m \u001b[38;5;28misinstance\u001b[39m(mapped[\u001b[38;5;241m0\u001b[39m], ABCSeries):\n\u001b[0;32m   1144\u001b[0m     \u001b[38;5;66;03m# GH#43986 Need to do list(mapped) in order to get treated as nested\u001b[39;00m\n\u001b[0;32m   1145\u001b[0m     \u001b[38;5;66;03m#  See also GH#25959 regarding EA support\u001b[39;00m\n\u001b[0;32m   1146\u001b[0m     \u001b[38;5;28;01mreturn\u001b[39;00m obj\u001b[38;5;241m.\u001b[39m_constructor_expanddim(\u001b[38;5;28mlist\u001b[39m(mapped), index\u001b[38;5;241m=\u001b[39mobj\u001b[38;5;241m.\u001b[39mindex)\n",
      "File \u001b[1;32m~\\anaconda3\\lib\\site-packages\\pandas\\_libs\\lib.pyx:2870\u001b[0m, in \u001b[0;36mpandas._libs.lib.map_infer\u001b[1;34m()\u001b[0m\n",
      "Cell \u001b[1;32mIn [11], line 16\u001b[0m, in \u001b[0;36m<lambda>\u001b[1;34m(x)\u001b[0m\n\u001b[0;32m      2\u001b[0m intervalos \u001b[38;5;241m=\u001b[39m {\n\u001b[0;32m      3\u001b[0m     \u001b[38;5;124m'\u001b[39m\u001b[38;5;124mAte um salario minimo (R$ 954,00 )\u001b[39m\u001b[38;5;124m'\u001b[39m: \u001b[38;5;241m1\u001b[39m,\n\u001b[0;32m      4\u001b[0m     \u001b[38;5;124m'\u001b[39m\u001b[38;5;124mde 1 a 2 salarios (R$ 954,00 – R$ 1908,00)\u001b[39m\u001b[38;5;124m'\u001b[39m: \u001b[38;5;241m2\u001b[39m,\n\u001b[1;32m   (...)\u001b[0m\n\u001b[0;32m     13\u001b[0m     \u001b[38;5;124m'\u001b[39m\u001b[38;5;124mAcima de 10 salarios (acima de R$ 9540,00)\u001b[39m\u001b[38;5;124m'\u001b[39m: \u001b[38;5;241m11\u001b[39m\n\u001b[0;32m     14\u001b[0m }\n\u001b[0;32m     15\u001b[0m df[\u001b[38;5;124m'\u001b[39m\u001b[38;5;124mfaixa_renda\u001b[39m\u001b[38;5;124m'\u001b[39m]\u001b[38;5;241m=\u001b[39mdf[\u001b[38;5;124m'\u001b[39m\u001b[38;5;124mfaixa_renda\u001b[39m\u001b[38;5;124m'\u001b[39m]\u001b[38;5;241m.\u001b[39mastype(\u001b[38;5;28mstr\u001b[39m)\n\u001b[1;32m---> 16\u001b[0m df[\u001b[38;5;124m'\u001b[39m\u001b[38;5;124mint_renda\u001b[39m\u001b[38;5;124m'\u001b[39m] \u001b[38;5;241m=\u001b[39m df[\u001b[38;5;124m'\u001b[39m\u001b[38;5;124mfaixa_renda\u001b[39m\u001b[38;5;124m'\u001b[39m]\u001b[38;5;241m.\u001b[39mapply(\u001b[38;5;28;01mlambda\u001b[39;00m x: \u001b[43mintervalos\u001b[49m\u001b[43m[\u001b[49m\u001b[43mx\u001b[49m\u001b[43m]\u001b[49m)\n",
      "\u001b[1;31mKeyError\u001b[0m: 'De 2 a 4 salários (R$ 1.875,00 - R$ 3.816,00)'"
     ]
    }
   ],
   "source": [
    "# Dicionário com os intervalos e seus respectivos valores inteiros\n",
    "intervalos = {\n",
    "    'Ate um salario minimo (R$ 954,00 )': 1,\n",
    "    'de 1 a 2 salarios (R$ 954,00 – R$ 1908,00)': 2,\n",
    "    'de 2 a 3 salarios (R$ 1875,00 – R$ 2862,00)': 3,\n",
    "    'de 3 a 4 salarios (R$ 2812,00 – R$ 3816,00)': 4,\n",
    "    'de 4 a 5 salarios (R$ 3749,00 – R$ 4770,00)': 5,\n",
    "    'de 5 a 6 salarios (R$ 4686,00 – R$ 5724,00)': 6,\n",
    "    'de 6 a 7 salarios (R$ 5623,00 – R$ 6678,00)': 7,\n",
    "    'de 7 a 8 salarios (R$ 6560,00 – R$ 7632,00)': 8,\n",
    "    'de 8 a 9 salarios (R$ 7497,00 – R$ 8586,00)': 9,\n",
    "    'de 9 a 10 salarios (R$ 8434,00 – R$ 9540,00)': 10,\n",
    "    'Acima de 10 salarios (acima de R$ 9540,00)': 11\n",
    "}\n",
    "df['faixa_renda']=df['faixa_renda'].astype(str)\n",
    "df['int_renda'] = df['faixa_renda'].apply(lambda x: intervalos[x])\n",
    "\n",
    "\n"
   ]
  },
  {
   "cell_type": "code",
   "execution_count": null,
   "id": "5fd6a022",
   "metadata": {},
   "outputs": [],
   "source": []
  },
  {
   "cell_type": "code",
   "execution_count": null,
   "id": "aa00c4aa",
   "metadata": {},
   "outputs": [],
   "source": []
  }
 ],
 "metadata": {
  "kernelspec": {
   "display_name": "Python 3 (ipykernel)",
   "language": "python",
   "name": "python3"
  },
  "language_info": {
   "codemirror_mode": {
    "name": "ipython",
    "version": 3
   },
   "file_extension": ".py",
   "mimetype": "text/x-python",
   "name": "python",
   "nbconvert_exporter": "python",
   "pygments_lexer": "ipython3",
   "version": "3.9.12"
  }
 },
 "nbformat": 4,
 "nbformat_minor": 5
}
