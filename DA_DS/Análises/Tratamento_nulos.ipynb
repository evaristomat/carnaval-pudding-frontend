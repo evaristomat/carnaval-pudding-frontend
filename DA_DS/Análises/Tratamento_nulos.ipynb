{
 "cells": [
  {
   "cell_type": "code",
   "execution_count": 86,
   "id": "f7bee391",
   "metadata": {},
   "outputs": [],
   "source": [
    "# Importando as bibliotecas necessárias\n",
    "\n",
    "import pandas as pd\n",
    "import seaborn as sns\n",
    "import numpy as np\n",
    "import matplotlib.pyplot as plt\n"
   ]
  },
  {
   "cell_type": "code",
   "execution_count": 87,
   "id": "526070c6",
   "metadata": {},
   "outputs": [],
   "source": [
    "#Paleta de cores do carnaval\n",
    "# Definindo a paleta de cores do carnaval\n",
    "\n",
    "my_palette = sns.color_palette(['#0455BF', '#05C7F2', '#D95204'])"
   ]
  },
  {
   "cell_type": "code",
   "execution_count": 158,
   "id": "082f05c3",
   "metadata": {},
   "outputs": [],
   "source": [
    "# Lendo o arquivo CSV e armazenando-o em um DataFrame\n",
    "\n",
    "df=pd.read_csv('C:/Users/Public/df_new.csv')"
   ]
  },
  {
   "cell_type": "code",
   "execution_count": 89,
   "id": "40f738f5",
   "metadata": {},
   "outputs": [],
   "source": [
    "# Renomeando uma coluna do DataFrame\n",
    "\n",
    "df=df.rename(columns={'t_outromoivo':'t_outro_motivo'})"
   ]
  },
  {
   "cell_type": "code",
   "execution_count": 90,
   "id": "98234a80",
   "metadata": {},
   "outputs": [],
   "source": [
    "# Separando os blocos em três classes distintas\n",
    "\n",
    "maiores_blocos = ['Baianas Ozadas', 'MONOBLOCO', 'Entao Brilha', 'Bloco Despedida de Carnaval']\n",
    "tamanho_metade = int(df.shape[0]/2)\n",
    "menores_blocos = list(df['bloco'].sort_values()[:tamanho_metade].index)\n",
    "df['bloco_classificacao'] = df['bloco']\n",
    "df.loc[~df['bloco_classificacao'].isin(maiores_blocos + menores_blocos), 'bloco_classificacao'] = 'Outros'\n"
   ]
  },
  {
   "cell_type": "code",
   "execution_count": 91,
   "id": "a010084f",
   "metadata": {},
   "outputs": [],
   "source": [
    "\n",
    "coluna_a = df.pop('bloco_classificacao') # remove a coluna do DataFrame e a armazena em uma variável separada\n",
    "df.insert(4, 'bloco_classificacao', coluna_a) # insere a coluna na posição 2"
   ]
  },
  {
   "cell_type": "code",
   "execution_count": 92,
   "id": "be38b391",
   "metadata": {},
   "outputs": [
    {
     "data": {
      "text/plain": [
       "array(['Ensino superior completo', 'Pos – Graduaçao – Mestrado',\n",
       "       'Ensino superior incompleto', 'Ensino medio completo',\n",
       "       'Ensino fundamental incompleto', 'Ensino medio incompleto',\n",
       "       'Ensino tecnico', 'Pos – Graduaçao – Especializaçao',\n",
       "       'Pos – Graduaçao – Doutorado', 'Ensino fundamental completo',\n",
       "       'Nao respondeu'], dtype=object)"
      ]
     },
     "execution_count": 92,
     "metadata": {},
     "output_type": "execute_result"
    }
   ],
   "source": [
    "# Verificando os valores únicos de uma coluna\n",
    "\n",
    "df['escolaridade'].unique()"
   ]
  },
  {
   "cell_type": "code",
   "execution_count": 93,
   "id": "2f911a99",
   "metadata": {
    "scrolled": true
   },
   "outputs": [
    {
     "data": {
      "text/html": [
       "<div>\n",
       "<style scoped>\n",
       "    .dataframe tbody tr th:only-of-type {\n",
       "        vertical-align: middle;\n",
       "    }\n",
       "\n",
       "    .dataframe tbody tr th {\n",
       "        vertical-align: top;\n",
       "    }\n",
       "\n",
       "    .dataframe thead th {\n",
       "        text-align: right;\n",
       "    }\n",
       "</style>\n",
       "<table border=\"1\" class=\"dataframe\">\n",
       "  <thead>\n",
       "    <tr style=\"text-align: right;\">\n",
       "      <th></th>\n",
       "      <th>Unnamed: 0.2</th>\n",
       "      <th>level_0</th>\n",
       "      <th>Unnamed: 0.1</th>\n",
       "      <th>index</th>\n",
       "      <th>Unnamed: 0</th>\n",
       "      <th>numero_controle</th>\n",
       "      <th>idade</th>\n",
       "      <th>t_qtpernoite</th>\n",
       "      <th>dias_carnaval</th>\n",
       "      <th>gasto_total</th>\n",
       "      <th>...</th>\n",
       "      <th>ingressos</th>\n",
       "      <th>outros</th>\n",
       "      <th>total</th>\n",
       "      <th>qtd_pessoas_gasto</th>\n",
       "      <th>aval_geral</th>\n",
       "      <th>aval_banheiros</th>\n",
       "      <th>aval_seguranca</th>\n",
       "      <th>aval_precos</th>\n",
       "      <th>faixa_renda</th>\n",
       "      <th>int_renda</th>\n",
       "    </tr>\n",
       "  </thead>\n",
       "  <tbody>\n",
       "    <tr>\n",
       "      <th>count</th>\n",
       "      <td>1581.000000</td>\n",
       "      <td>1581.000000</td>\n",
       "      <td>1581.000000</td>\n",
       "      <td>1581.000000</td>\n",
       "      <td>1581.000000</td>\n",
       "      <td>1581.000000</td>\n",
       "      <td>1581.000000</td>\n",
       "      <td>218.000000</td>\n",
       "      <td>1581.000000</td>\n",
       "      <td>1581.000000</td>\n",
       "      <td>...</td>\n",
       "      <td>1581.000000</td>\n",
       "      <td>1581.000000</td>\n",
       "      <td>1581.000000</td>\n",
       "      <td>1581.000000</td>\n",
       "      <td>1581.000000</td>\n",
       "      <td>1581.000000</td>\n",
       "      <td>1581.000000</td>\n",
       "      <td>1581.000000</td>\n",
       "      <td>0.0</td>\n",
       "      <td>1581.000000</td>\n",
       "    </tr>\n",
       "    <tr>\n",
       "      <th>mean</th>\n",
       "      <td>790.000000</td>\n",
       "      <td>790.000000</td>\n",
       "      <td>790.000000</td>\n",
       "      <td>818.919039</td>\n",
       "      <td>818.919039</td>\n",
       "      <td>819.919039</td>\n",
       "      <td>30.543960</td>\n",
       "      <td>5.665138</td>\n",
       "      <td>3.841240</td>\n",
       "      <td>339.242694</td>\n",
       "      <td>...</td>\n",
       "      <td>8.490829</td>\n",
       "      <td>19.371284</td>\n",
       "      <td>335.261037</td>\n",
       "      <td>1.522454</td>\n",
       "      <td>5.194813</td>\n",
       "      <td>7.170778</td>\n",
       "      <td>6.663504</td>\n",
       "      <td>8.338393</td>\n",
       "      <td>NaN</td>\n",
       "      <td>4.951929</td>\n",
       "    </tr>\n",
       "    <tr>\n",
       "      <th>std</th>\n",
       "      <td>456.539703</td>\n",
       "      <td>456.539703</td>\n",
       "      <td>456.539703</td>\n",
       "      <td>475.287850</td>\n",
       "      <td>475.287850</td>\n",
       "      <td>475.287850</td>\n",
       "      <td>11.656046</td>\n",
       "      <td>12.611631</td>\n",
       "      <td>1.664817</td>\n",
       "      <td>458.704204</td>\n",
       "      <td>...</td>\n",
       "      <td>51.781559</td>\n",
       "      <td>113.676576</td>\n",
       "      <td>465.820195</td>\n",
       "      <td>1.043501</td>\n",
       "      <td>2.576181</td>\n",
       "      <td>2.217293</td>\n",
       "      <td>2.216021</td>\n",
       "      <td>1.383437</td>\n",
       "      <td>NaN</td>\n",
       "      <td>2.843196</td>\n",
       "    </tr>\n",
       "    <tr>\n",
       "      <th>min</th>\n",
       "      <td>0.000000</td>\n",
       "      <td>0.000000</td>\n",
       "      <td>0.000000</td>\n",
       "      <td>0.000000</td>\n",
       "      <td>0.000000</td>\n",
       "      <td>1.000000</td>\n",
       "      <td>16.000000</td>\n",
       "      <td>0.000000</td>\n",
       "      <td>1.000000</td>\n",
       "      <td>3.000000</td>\n",
       "      <td>...</td>\n",
       "      <td>0.000000</td>\n",
       "      <td>0.000000</td>\n",
       "      <td>0.000000</td>\n",
       "      <td>1.000000</td>\n",
       "      <td>1.000000</td>\n",
       "      <td>1.000000</td>\n",
       "      <td>1.000000</td>\n",
       "      <td>1.000000</td>\n",
       "      <td>NaN</td>\n",
       "      <td>1.000000</td>\n",
       "    </tr>\n",
       "    <tr>\n",
       "      <th>25%</th>\n",
       "      <td>395.000000</td>\n",
       "      <td>395.000000</td>\n",
       "      <td>395.000000</td>\n",
       "      <td>407.000000</td>\n",
       "      <td>407.000000</td>\n",
       "      <td>408.000000</td>\n",
       "      <td>22.000000</td>\n",
       "      <td>3.000000</td>\n",
       "      <td>2.000000</td>\n",
       "      <td>112.000000</td>\n",
       "      <td>...</td>\n",
       "      <td>0.000000</td>\n",
       "      <td>0.000000</td>\n",
       "      <td>100.000000</td>\n",
       "      <td>1.000000</td>\n",
       "      <td>3.000000</td>\n",
       "      <td>6.000000</td>\n",
       "      <td>5.000000</td>\n",
       "      <td>8.000000</td>\n",
       "      <td>NaN</td>\n",
       "      <td>3.000000</td>\n",
       "    </tr>\n",
       "    <tr>\n",
       "      <th>50%</th>\n",
       "      <td>790.000000</td>\n",
       "      <td>790.000000</td>\n",
       "      <td>790.000000</td>\n",
       "      <td>820.000000</td>\n",
       "      <td>820.000000</td>\n",
       "      <td>821.000000</td>\n",
       "      <td>28.000000</td>\n",
       "      <td>4.000000</td>\n",
       "      <td>4.000000</td>\n",
       "      <td>230.000000</td>\n",
       "      <td>...</td>\n",
       "      <td>0.000000</td>\n",
       "      <td>0.000000</td>\n",
       "      <td>210.000000</td>\n",
       "      <td>1.000000</td>\n",
       "      <td>5.000000</td>\n",
       "      <td>8.000000</td>\n",
       "      <td>7.000000</td>\n",
       "      <td>8.000000</td>\n",
       "      <td>NaN</td>\n",
       "      <td>4.000000</td>\n",
       "    </tr>\n",
       "    <tr>\n",
       "      <th>75%</th>\n",
       "      <td>1185.000000</td>\n",
       "      <td>1185.000000</td>\n",
       "      <td>1185.000000</td>\n",
       "      <td>1228.000000</td>\n",
       "      <td>1228.000000</td>\n",
       "      <td>1229.000000</td>\n",
       "      <td>37.000000</td>\n",
       "      <td>5.000000</td>\n",
       "      <td>5.000000</td>\n",
       "      <td>400.000000</td>\n",
       "      <td>...</td>\n",
       "      <td>0.000000</td>\n",
       "      <td>0.000000</td>\n",
       "      <td>400.000000</td>\n",
       "      <td>2.000000</td>\n",
       "      <td>7.000000</td>\n",
       "      <td>9.000000</td>\n",
       "      <td>8.000000</td>\n",
       "      <td>9.000000</td>\n",
       "      <td>NaN</td>\n",
       "      <td>6.000000</td>\n",
       "    </tr>\n",
       "    <tr>\n",
       "      <th>max</th>\n",
       "      <td>1580.000000</td>\n",
       "      <td>1580.000000</td>\n",
       "      <td>1580.000000</td>\n",
       "      <td>1644.000000</td>\n",
       "      <td>1644.000000</td>\n",
       "      <td>1645.000000</td>\n",
       "      <td>74.000000</td>\n",
       "      <td>180.000000</td>\n",
       "      <td>6.000000</td>\n",
       "      <td>10000.000000</td>\n",
       "      <td>...</td>\n",
       "      <td>1000.000000</td>\n",
       "      <td>2500.000000</td>\n",
       "      <td>10000.000000</td>\n",
       "      <td>10.000000</td>\n",
       "      <td>10.000000</td>\n",
       "      <td>10.000000</td>\n",
       "      <td>10.000000</td>\n",
       "      <td>10.000000</td>\n",
       "      <td>NaN</td>\n",
       "      <td>11.000000</td>\n",
       "    </tr>\n",
       "  </tbody>\n",
       "</table>\n",
       "<p>8 rows × 25 columns</p>\n",
       "</div>"
      ],
      "text/plain": [
       "       Unnamed: 0.2      level_0  Unnamed: 0.1        index   Unnamed: 0  \\\n",
       "count   1581.000000  1581.000000   1581.000000  1581.000000  1581.000000   \n",
       "mean     790.000000   790.000000    790.000000   818.919039   818.919039   \n",
       "std      456.539703   456.539703    456.539703   475.287850   475.287850   \n",
       "min        0.000000     0.000000      0.000000     0.000000     0.000000   \n",
       "25%      395.000000   395.000000    395.000000   407.000000   407.000000   \n",
       "50%      790.000000   790.000000    790.000000   820.000000   820.000000   \n",
       "75%     1185.000000  1185.000000   1185.000000  1228.000000  1228.000000   \n",
       "max     1580.000000  1580.000000   1580.000000  1644.000000  1644.000000   \n",
       "\n",
       "       numero_controle        idade  t_qtpernoite  dias_carnaval  \\\n",
       "count      1581.000000  1581.000000    218.000000    1581.000000   \n",
       "mean        819.919039    30.543960      5.665138       3.841240   \n",
       "std         475.287850    11.656046     12.611631       1.664817   \n",
       "min           1.000000    16.000000      0.000000       1.000000   \n",
       "25%         408.000000    22.000000      3.000000       2.000000   \n",
       "50%         821.000000    28.000000      4.000000       4.000000   \n",
       "75%        1229.000000    37.000000      5.000000       5.000000   \n",
       "max        1645.000000    74.000000    180.000000       6.000000   \n",
       "\n",
       "        gasto_total  ...    ingressos       outros         total  \\\n",
       "count   1581.000000  ...  1581.000000  1581.000000   1581.000000   \n",
       "mean     339.242694  ...     8.490829    19.371284    335.261037   \n",
       "std      458.704204  ...    51.781559   113.676576    465.820195   \n",
       "min        3.000000  ...     0.000000     0.000000      0.000000   \n",
       "25%      112.000000  ...     0.000000     0.000000    100.000000   \n",
       "50%      230.000000  ...     0.000000     0.000000    210.000000   \n",
       "75%      400.000000  ...     0.000000     0.000000    400.000000   \n",
       "max    10000.000000  ...  1000.000000  2500.000000  10000.000000   \n",
       "\n",
       "       qtd_pessoas_gasto   aval_geral  aval_banheiros  aval_seguranca  \\\n",
       "count        1581.000000  1581.000000     1581.000000     1581.000000   \n",
       "mean            1.522454     5.194813        7.170778        6.663504   \n",
       "std             1.043501     2.576181        2.217293        2.216021   \n",
       "min             1.000000     1.000000        1.000000        1.000000   \n",
       "25%             1.000000     3.000000        6.000000        5.000000   \n",
       "50%             1.000000     5.000000        8.000000        7.000000   \n",
       "75%             2.000000     7.000000        9.000000        8.000000   \n",
       "max            10.000000    10.000000       10.000000       10.000000   \n",
       "\n",
       "       aval_precos  faixa_renda    int_renda  \n",
       "count  1581.000000          0.0  1581.000000  \n",
       "mean      8.338393          NaN     4.951929  \n",
       "std       1.383437          NaN     2.843196  \n",
       "min       1.000000          NaN     1.000000  \n",
       "25%       8.000000          NaN     3.000000  \n",
       "50%       8.000000          NaN     4.000000  \n",
       "75%       9.000000          NaN     6.000000  \n",
       "max      10.000000          NaN    11.000000  \n",
       "\n",
       "[8 rows x 25 columns]"
      ]
     },
     "execution_count": 93,
     "metadata": {},
     "output_type": "execute_result"
    }
   ],
   "source": [
    "# Verificando a descrição do DataFrame\n",
    "\n",
    "df.describe()"
   ]
  },
  {
   "cell_type": "code",
   "execution_count": 94,
   "id": "3752c63c",
   "metadata": {},
   "outputs": [
    {
     "data": {
      "text/plain": [
       "Series([], Name: faixa_renda, dtype: int64)"
      ]
     },
     "execution_count": 94,
     "metadata": {},
     "output_type": "execute_result"
    }
   ],
   "source": [
    "# Criando outra coluna para classificar a renda:\n",
    "df['faixa_renda'].value_counts()"
   ]
  },
  {
   "cell_type": "code",
   "execution_count": 95,
   "id": "84589365",
   "metadata": {},
   "outputs": [],
   "source": [
    "# Removendo linhas que contenham valores específicos e redefinindo o índice do DataFrame\n",
    "\n",
    "df=df.drop(df[df['faixa_renda']=='Nao respondeu'].index)\n",
    "df=df.drop(df[df['faixa_renda']=='Nao sabe'].index)\n"
   ]
  },
  {
   "cell_type": "code",
   "execution_count": 96,
   "id": "5b6d2788",
   "metadata": {
    "scrolled": true
   },
   "outputs": [],
   "source": [
    "df.loc[df['morador'] == 'Visitantes', 't_qtpernoite'] = df.loc[df['morador'] == 'Visitantes', 't_qtpernoite'].fillna(0)\n",
    "#Preenchendo valores pagos de estadia por visitantes que não pernoitaram com 0, pois não pagaram nada de hospedagem."
   ]
  },
  {
   "cell_type": "code",
   "execution_count": 97,
   "id": "9f452125",
   "metadata": {},
   "outputs": [
    {
     "data": {
      "text/plain": [
       "array([nan, 'Casa de Amigos/Parentes', 'Outros', 'Casa propria/alugada',\n",
       "       'Hoteis/Pousadas', 'Outro   airbnb', 'Outro   carro',\n",
       "       'Outro   aluguel de quarto', 'Albergue', 'Outro   flat'],\n",
       "      dtype=object)"
      ]
     },
     "execution_count": 97,
     "metadata": {},
     "output_type": "execute_result"
    }
   ],
   "source": [
    "df['t_hospedagem'].unique()"
   ]
  },
  {
   "cell_type": "code",
   "execution_count": 98,
   "id": "f5bfb0e2",
   "metadata": {},
   "outputs": [],
   "source": [
    "df.loc[df['morador'] == 'Visitantes', 't_pernoite'] = df.loc[df['morador'] == 'Visitantes', 't_pernoite'].fillna(0)\n",
    "#Preenchendo valores pagos de estadia por visitantes que não pernoitaram com 0, pois não se hospedaram."
   ]
  },
  {
   "cell_type": "code",
   "execution_count": 99,
   "id": "a0ccdd7c",
   "metadata": {},
   "outputs": [],
   "source": [
    "df.loc[df['morador'] == 'Visitantes', 't_hospedagem'] = df.loc[df['morador'] == 'Visitantes', 't_hospedagem'].fillna('Outros')\n",
    "# Preenchendo hospedagens ausentes de visitantes com outros."
   ]
  },
  {
   "cell_type": "code",
   "execution_count": 100,
   "id": "927b4ab1",
   "metadata": {},
   "outputs": [],
   "source": [
    "df['t_transp'][df['morador']=='Visitantes'].unique()\n",
    "df.loc[df['morador'] == 'Visitantes', 't_transp'] = df.loc[df['morador'] == 'Visitantes', 't_transp'].fillna('Outros')\n",
    "# Preenchendo veículo de transporte de pessoas visitantes com outros."
   ]
  },
  {
   "cell_type": "code",
   "execution_count": 101,
   "id": "d48769fe",
   "metadata": {},
   "outputs": [],
   "source": [
    "df.loc[df['morador'] == 'Visitantes', 't_motivo'] = df.loc[df['morador'] == 'Visitantes', 't_motivo'].fillna('Nao respondeu')\n",
    "# Colocando não respondeu, para quem não respondeu o motivo da visita na pesquisa."
   ]
  },
  {
   "cell_type": "code",
   "execution_count": 102,
   "id": "fd68bb6b",
   "metadata": {},
   "outputs": [],
   "source": [
    "df.loc[df['morador'] == 'Visitantes', 't_outro_motivo'] = df.loc[df['morador'] == 'Visitantes', 't_outro_motivo'].fillna('Nao respondeu')\n",
    "# Colocando não respondeu, para quem não respondeu o motivo da visita na pesquisa."
   ]
  },
  {
   "cell_type": "code",
   "execution_count": 103,
   "id": "cf9cd761",
   "metadata": {},
   "outputs": [],
   "source": [
    "def fill_gasto_total(row):\n",
    "    if pd.isna(row['gasto_total']):\n",
    "        return df['gasto_total'][row['dias_carnaval']]\n",
    "    return row['gasto_total']        \n",
    "df['gasto_total'] = df.apply(fill_gasto_total, axis=1)\n",
    "# Preenchendo dados vazios de gasto total de acordo com tempo que permaneceu no carnaval."
   ]
  },
  {
   "cell_type": "code",
   "execution_count": 104,
   "id": "7c1a2e61",
   "metadata": {},
   "outputs": [
    {
     "name": "stdout",
     "output_type": "stream",
     "text": [
      "<class 'pandas.core.frame.DataFrame'>\n",
      "RangeIndex: 1581 entries, 0 to 1580\n",
      "Data columns (total 68 columns):\n",
      " #   Column                      Non-Null Count  Dtype  \n",
      "---  ------                      --------------  -----  \n",
      " 0   Unnamed: 0.2                1581 non-null   int64  \n",
      " 1   level_0                     1581 non-null   int64  \n",
      " 2   Unnamed: 0.1                1581 non-null   int64  \n",
      " 3   index                       1581 non-null   int64  \n",
      " 4   bloco_classificacao         1581 non-null   object \n",
      " 5   Unnamed: 0                  1581 non-null   int64  \n",
      " 6   morador                     1581 non-null   object \n",
      " 7   numero_controle             1581 non-null   int64  \n",
      " 8   bloco                       1581 non-null   object \n",
      " 9   dt_visita                   1581 non-null   object \n",
      " 10  dt_termino                  1581 non-null   object \n",
      " 11  tempo_total_entrev          1581 non-null   object \n",
      " 12  idade                       1581 non-null   int64  \n",
      " 13  pais                        1581 non-null   object \n",
      " 14  estado                      1581 non-null   object \n",
      " 15  cidade                      1581 non-null   object \n",
      " 16  bairro_bh                   1363 non-null   object \n",
      " 17  regiao_bh                   1363 non-null   object \n",
      " 18  t_pernoite                  218 non-null    object \n",
      " 19  t_qtpernoite                218 non-null    float64\n",
      " 20  t_hospedagem                218 non-null    object \n",
      " 21  t_transp                    218 non-null    object \n",
      " 22  t_motivo                    218 non-null    object \n",
      " 23  t_outro_motivo              218 non-null    object \n",
      " 24  dias_carnaval               1581 non-null   int64  \n",
      " 25  gasto_total                 1581 non-null   float64\n",
      " 26  t_hospedagem.1              218 non-null    float64\n",
      " 27  alimentacao                 1581 non-null   float64\n",
      " 28  t_atrativos_passeios        218 non-null    float64\n",
      " 29  transporte_interno          1581 non-null   float64\n",
      " 30  compras                     1581 non-null   float64\n",
      " 31  ingressos                   1581 non-null   float64\n",
      " 32  outros                      1581 non-null   float64\n",
      " 33  total                       1581 non-null   float64\n",
      " 34  qtd_pessoas_gasto           1581 non-null   float64\n",
      " 35  fonte_carnaval              1581 non-null   object \n",
      " 36  participou_anos_anteriores  1581 non-null   object \n",
      " 37  evolucao                    1581 non-null   object \n",
      " 38  motivo                      1581 non-null   object \n",
      " 39  expectativas                1581 non-null   object \n",
      " 40  aval_geral                  1581 non-null   float64\n",
      " 41  aval_banheiros              1581 non-null   float64\n",
      " 42  aval_seguranca              1581 non-null   float64\n",
      " 43  aval_precos                 1581 non-null   float64\n",
      " 44  proxima_edicao              1581 non-null   bool   \n",
      " 45  motivo_nao                  1581 non-null   object \n",
      " 46  blocos_de_rua               1581 non-null   bool   \n",
      " 47  escola_samba_caricato       1581 non-null   bool   \n",
      " 48  eventos_privados            1581 non-null   bool   \n",
      " 49  palcos                      1581 non-null   bool   \n",
      " 50  t_visita_amigos             218 non-null    object \n",
      " 51  t_city_tour                 218 non-null    object \n",
      " 52  t_visita_cultural           218 non-null    object \n",
      " 53  t_compras                   218 non-null    object \n",
      " 54  t_gastronomia               218 non-null    object \n",
      " 55  principal_patrocinador      1581 non-null   object \n",
      " 56  outro_patrocinador          1581 non-null   object \n",
      " 57  genero                      1581 non-null   object \n",
      " 58  escolaridade                1581 non-null   object \n",
      " 59  estado_civil                1581 non-null   object \n",
      " 60  faixa_renda                 0 non-null      float64\n",
      " 61  int_renda                   1581 non-null   int64  \n",
      " 62  nivel_gastos                1581 non-null   object \n",
      " 63  categoria_escolaridade      1581 non-null   object \n",
      " 64  categoria_transporte        218 non-null    object \n",
      " 65  categoria_hospedagem        1581 non-null   object \n",
      " 66  categoria_regiao            1581 non-null   object \n",
      " 67  faixa_etaria                1581 non-null   object \n",
      "dtypes: bool(5), float64(16), int64(9), object(38)\n",
      "memory usage: 786.0+ KB\n"
     ]
    }
   ],
   "source": [
    "df.info()"
   ]
  },
  {
   "cell_type": "code",
   "execution_count": 105,
   "id": "33b78c26",
   "metadata": {
    "scrolled": true
   },
   "outputs": [
    {
     "data": {
      "text/plain": [
       "Series([], Name: t_hospedagem, dtype: object)"
      ]
     },
     "execution_count": 105,
     "metadata": {},
     "output_type": "execute_result"
    }
   ],
   "source": [
    "df['t_hospedagem'][df['morador']=='Visitantes'][df['t_hospedagem.1'].isnull()]"
   ]
  },
  {
   "cell_type": "code",
   "execution_count": 106,
   "id": "a8f3c64e",
   "metadata": {},
   "outputs": [],
   "source": [
    "df[['alimentacao', 'transporte_interno', 'compras', 'ingressos', 'outros', 'total']]=df[['alimentacao', 'transporte_interno', 'compras', 'ingressos', 'outros', 'total']].fillna(0)\n",
    "# Preenchendo preços vazios com 0"
   ]
  },
  {
   "cell_type": "code",
   "execution_count": 107,
   "id": "cadd12a1",
   "metadata": {},
   "outputs": [],
   "source": [
    "df['qtd_pessoas_gasto']=df['qtd_pessoas_gasto'].fillna(1) \n",
    "# Preenchendo quantidades de pessoas vazias com 1 (Ao menos quem estava respondendo a pesquisa)"
   ]
  },
  {
   "cell_type": "code",
   "execution_count": 108,
   "id": "502a112a",
   "metadata": {
    "scrolled": true
   },
   "outputs": [],
   "source": [
    "df.loc[df['morador'] == 'Visitantes', ['t_hospedagem.1', 't_atrativos_passeios']] = df.loc[df['morador'] == 'Visitantes', ['t_hospedagem.1', 't_atrativos_passeios']].fillna(0)\n",
    "# Gastos com hospedagens e passeios vazios preenchidos com 0."
   ]
  },
  {
   "cell_type": "code",
   "execution_count": 109,
   "id": "cce59b78",
   "metadata": {},
   "outputs": [],
   "source": [
    "df[['evolucao', 'motivo']]=df[['evolucao', 'motivo']].fillna('Nao respondeu')\n",
    "# Colocando os dados ausentes nas colunas de motivo de evolução e se evoluiu ou não como \"Não respondeu\""
   ]
  },
  {
   "cell_type": "code",
   "execution_count": 110,
   "id": "88e67724",
   "metadata": {},
   "outputs": [],
   "source": [
    "df['motivo_nao']=df['motivo_nao'].fillna('Nao respondeu')\n"
   ]
  },
  {
   "cell_type": "code",
   "execution_count": 111,
   "id": "999217c4",
   "metadata": {},
   "outputs": [],
   "source": [
    "df['outro_patrocinador']=df['outro_patrocinador'].fillna('Nao possui')"
   ]
  },
  {
   "cell_type": "code",
   "execution_count": 112,
   "id": "3b665769",
   "metadata": {},
   "outputs": [],
   "source": [
    "\n",
    "faixas_preco=[0,500,1000,5000,float('inf')]\n",
    "categoria=['Baixo', 'Médio', 'Alto', 'Muito alto']\n",
    "df['nivel_gastos']=pd.cut(df['gasto_total'], bins=faixas_preco, labels=categoria)\n",
    "# Categorizando níveis de gasto para plotagem de gráfico."
   ]
  },
  {
   "cell_type": "code",
   "execution_count": 113,
   "id": "f669751e",
   "metadata": {
    "scrolled": true
   },
   "outputs": [
    {
     "data": {
      "text/plain": [
       "array(['Ensino superior completo', 'Pos – Graduaçao – Mestrado',\n",
       "       'Ensino superior incompleto', 'Ensino medio completo',\n",
       "       'Ensino fundamental incompleto', 'Ensino medio incompleto',\n",
       "       'Ensino tecnico', 'Pos – Graduaçao – Especializaçao',\n",
       "       'Pos – Graduaçao – Doutorado', 'Ensino fundamental completo',\n",
       "       'Nao respondeu'], dtype=object)"
      ]
     },
     "execution_count": 113,
     "metadata": {},
     "output_type": "execute_result"
    }
   ],
   "source": [
    "df['escolaridade'].unique()"
   ]
  },
  {
   "cell_type": "code",
   "execution_count": 114,
   "id": "c35294dd",
   "metadata": {},
   "outputs": [],
   "source": [
    "def categoriza_escolaridade(x):\n",
    "    if x in ['Ensino fundamental incompleto', 'Ensino fundamental completo', 'Ensino medio incompleto', 'Ensino medio completo']:\n",
    "        return 'Ensino Básico'\n",
    "    elif x in ['Ensino superior completo', 'Ensino superior incompleto', 'Ensino tecnico']:\n",
    "        return 'Graduado'\n",
    "    elif x in ['Pos – Graduaçao – Mestrado', 'Pos – Graduaçao – Especializaçao', 'Pos – Graduaçao – Doutorado', 'MBA']:\n",
    "        return 'Pós'\n",
    "    else:\n",
    "        return 'Outros'\n",
    "    \n",
    "df['categoria_escolaridade'] = df['escolaridade'].apply(categoriza_escolaridade)\n",
    "# Categorizando níveis de estudo para plotagem de gráfico."
   ]
  },
  {
   "cell_type": "code",
   "execution_count": 115,
   "id": "14d66801",
   "metadata": {
    "scrolled": false
   },
   "outputs": [
    {
     "data": {
      "text/plain": [
       "array([nan, 'Aviao', 'onibus rodoviario', 'Outros', 'Carro',\n",
       "       'Outro   Carona', 'Trem', 'Outro   Uber', 'Taxi'], dtype=object)"
      ]
     },
     "execution_count": 115,
     "metadata": {},
     "output_type": "execute_result"
    }
   ],
   "source": [
    "df['t_transp'].unique()"
   ]
  },
  {
   "cell_type": "code",
   "execution_count": 116,
   "id": "a5df7d05",
   "metadata": {},
   "outputs": [],
   "source": [
    "def categoriza_transporte(x):\n",
    "    if x in ['Aviao', 'onibus rodoviario', 'Trem']:\n",
    "        return 'Transporte Coletivo'\n",
    "    elif x in ['Carro', 'Outro   Carona']:\n",
    "        return 'Transporte Privado'\n",
    "    elif x in ['Outro   Uber', 'Taxi']:\n",
    "        return 'Aplicativo'\n",
    "    \n",
    "df['categoria_transporte'] = df['t_transp'].apply(categoriza_transporte)\n",
    "# Categorizando transportes para plotagem de gráfico."
   ]
  },
  {
   "cell_type": "code",
   "execution_count": 117,
   "id": "e8a9f496",
   "metadata": {},
   "outputs": [],
   "source": [
    "def categoria_hospedagem(x):\n",
    "    if x in ['Albergue', 'Outro   flat', 'Hoteis/Pousadas']:\n",
    "        return 'Hospedagem'\n",
    "    elif x in ['Outro   airbnb', 'Outro   aluguel de quarto']:\n",
    "        return 'Airbnb'\n",
    "    elif x in ['Casa de Amigos/Parentes', 'Casa propria/alugada']:\n",
    "        return 'Casa'\n",
    "    else:\n",
    "        return 'Outros'\n",
    "df['categoria_hospedagem'] = df['t_hospedagem'].apply(categoria_hospedagem)\n",
    "# Categorizando hospedagens para plotagem de gráfico."
   ]
  },
  {
   "cell_type": "code",
   "execution_count": 118,
   "id": "3f202bd1",
   "metadata": {},
   "outputs": [
    {
     "data": {
      "text/plain": [
       "0          Morador\n",
       "1          Morador\n",
       "2          Morador\n",
       "3          Morador\n",
       "4          Morador\n",
       "           ...    \n",
       "1576       Morador\n",
       "1577       Morador\n",
       "1578       Morador\n",
       "1579       Morador\n",
       "1580    Visitantes\n",
       "Name: morador, Length: 1581, dtype: object"
      ]
     },
     "execution_count": 118,
     "metadata": {},
     "output_type": "execute_result"
    }
   ],
   "source": [
    "df['morador']"
   ]
  },
  {
   "cell_type": "code",
   "execution_count": 119,
   "id": "1d22868e",
   "metadata": {},
   "outputs": [],
   "source": [
    "df.loc[df['morador'] == 'Morador', ['bairro_bh', 'regiao_bh']] = df.loc[df['morador'] == 'Morador', ['bairro_bh', 'regiao_bh']].fillna('Desconhecido')\n",
    "# Preenchendo endereços ausentes com desconhecido para moradores."
   ]
  },
  {
   "cell_type": "code",
   "execution_count": 120,
   "id": "0b8b772a",
   "metadata": {
    "scrolled": true
   },
   "outputs": [],
   "source": [
    "def categoria_regiao(x):\n",
    "    if x in ['Minas Gerais', 'Sao Paulo', 'Rio de Janeiro', 'Espirito Santo']:\n",
    "        return 'Sudeste'\n",
    "    elif x in ['Mato Grosso do Sul', 'Goias']:\n",
    "        return 'Centro-Oeste'\n",
    "    elif x in ['Pernambuco', 'Maranhao', 'Rio Grande do Norte', 'Bahia', 'Ceara']:\n",
    "        return 'Nordeste'\n",
    "    elif x in ['Rio Grande do Sul', 'Santa Catarina', 'Parana']:\n",
    "        return 'Sul'\n",
    "    elif x in ['Amazonas']:\n",
    "        return 'Norte'\n",
    "df['categoria_regiao'] = df['estado'].apply(categoria_regiao)\n",
    "# Agrupando regiões para plotagem de gráficos."
   ]
  },
  {
   "cell_type": "code",
   "execution_count": 121,
   "id": "034bc6f4",
   "metadata": {},
   "outputs": [],
   "source": [
    "df['categoria_regiao']=df['categoria_regiao'].fillna('Desconhecido/Inter')"
   ]
  },
  {
   "cell_type": "code",
   "execution_count": 122,
   "id": "eaba3946",
   "metadata": {},
   "outputs": [],
   "source": [
    "df.loc[df['morador'] == 'Visitantes', 'categoria_transporte'] = df.loc[df['morador'] == 'Visitantes', 'categoria_transporte'].fillna('Outros')\n"
   ]
  },
  {
   "cell_type": "code",
   "execution_count": 123,
   "id": "7a257012",
   "metadata": {},
   "outputs": [],
   "source": [
    "df[['estado', 'cidade']]=df[['estado', 'cidade']].fillna('Inter')\n",
    "# COlocando nulos de estado ou cidade para \"inter\", pois são referentes aos foliões gringos."
   ]
  },
  {
   "cell_type": "code",
   "execution_count": 146,
   "id": "8edaf6f6",
   "metadata": {},
   "outputs": [],
   "source": [
    "# revised salary groups\n",
    "salary_groups = ['Até um salário mínimo (R$ 954,00)',\n",
    "                 'De 1 a 2 salários (R$ 954,00 - R$ 1.908,00)',\n",
    "                 'De 2 a 4 salários (R$ 1.908,00 - R$ 3.816,00)',\n",
    "                 'De 4 a 8 salários (R$ 3.816,00 - R$ 7.632,00)',\n",
    "                 'Acima de 8 salários (acima de R$ 7.632,00)',\n",
    "                 'Não sei',\n",
    "                 'Prefiro não responder']\n",
    "\n",
    "# create a dictionary mapping original salary ranges to revised salary groups\n",
    "salary_map = {'Ate um salario minimo (R$ 954,00 )': salary_groups[0],\n",
    "              'de 1 a 2 salarios (R$ 954,00 – R$ 1908,00)': salary_groups[1],\n",
    "              'de 2 a 3 salarios (R$ 1875,00 – R$ 2862,00)': salary_groups[2],\n",
    "              'de 3 a 4 salarios (R$ 2812,00 – R$ 3816,00)': salary_groups[2],\n",
    "              'de 4 a 5 salarios (R$ 3749,00 – R$ 4770,00)': salary_groups[3],\n",
    "              'de 5 a 6 salarios (R$ 4686,00 – R$ 5724,00)': salary_groups[3],\n",
    "              'de 6 a 7 salarios (R$ 5623,00 – R$ 6678,00)': salary_groups[3],\n",
    "              'de 7 a 8 salarios (R$ 6560,00 – R$ 7632,00)': salary_groups[4],\n",
    "              'de 8 a 9 salarios (R$ 7497,00 – R$ 8586,00)': salary_groups[4],\n",
    "              'de 9 a 10 salarios (R$ 8434,00 – R$ 9540,00)': salary_groups[4],\n",
    "              'Acima de 10 salarios (acima de R$ 9540,00)': salary_groups[4]}\n",
    "\n",
    "# apply the mapping to the \"faixa_renda\" column\n",
    "df['faixa_renda'] = df['faixa_renda'].map(salary_map)"
   ]
  },
  {
   "cell_type": "code",
   "execution_count": 161,
   "id": "5f9824b0",
   "metadata": {},
   "outputs": [],
   "source": [
    "df.to_csv('data.csv') \n",
    "# baixando df usado"
   ]
  }
 ],
 "metadata": {
  "kernelspec": {
   "display_name": "Python 3 (ipykernel)",
   "language": "python",
   "name": "python3"
  },
  "language_info": {
   "codemirror_mode": {
    "name": "ipython",
    "version": 3
   },
   "file_extension": ".py",
   "mimetype": "text/x-python",
   "name": "python",
   "nbconvert_exporter": "python",
   "pygments_lexer": "ipython3",
   "version": "3.9.12"
  }
 },
 "nbformat": 4,
 "nbformat_minor": 5
}
